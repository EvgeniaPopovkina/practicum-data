{
 "cells": [
  {
   "cell_type": "markdown",
   "metadata": {},
   "source": [
    "<font size=\"5\">**Исследование компьтерных игр**</font>"
   ]
  },
  {
   "cell_type": "markdown",
   "metadata": {},
   "source": [
    "## Описание проекта"
   ]
  },
  {
   "cell_type": "markdown",
   "metadata": {},
   "source": [
    "Вы работаете в интернет-магазине «Стримчик», который продаёт по всему миру компьютерные игры. Из открытых источников доступны исторические данные о продажах игр, оценки пользователей и экспертов, жанры и платформы (например, Xbox или PlayStation). Вам нужно выявить определяющие успешность игры закономерности. Это позволит сделать ставку на потенциально популярный продукт и спланировать рекламные кампании.\n",
    "Перед вами данные до 2016 года. Представим, что сейчас декабрь 2016 г., и вы планируете кампанию на 2017-й. Нужно отработать принцип работы с данными. Неважно, прогнозируете ли вы продажи на 2017 год по данным 2016-го или же 2027-й — по данным 2026 года.\n",
    "В наборе данных попадается аббревиатура ESRB (Entertainment Software Rating Board) — это ассоциация, определяющая возрастной рейтинг компьютерных игр. ESRB оценивает игровой контент и присваивает ему подходящую возрастную категорию, например, «Для взрослых», «Для детей младшего возраста» или «Для подростков»."
   ]
  },
  {
   "cell_type": "markdown",
   "metadata": {},
   "source": [
    "## Импорт библиотек и описание данных"
   ]
  },
  {
   "cell_type": "code",
   "execution_count": 1,
   "metadata": {},
   "outputs": [],
   "source": [
    "import pandas as pd\n",
    "import matplotlib.pyplot as plt\n",
    "import numpy as np\n",
    "import seaborn as sns\n",
    "from scipy import stats as st"
   ]
  },
  {
   "cell_type": "code",
   "execution_count": 2,
   "metadata": {},
   "outputs": [],
   "source": [
    "data = pd.read_csv('/datasets/games.csv')"
   ]
  },
  {
   "cell_type": "code",
   "execution_count": 3,
   "metadata": {},
   "outputs": [
    {
     "name": "stdout",
     "output_type": "stream",
     "text": [
      "<class 'pandas.core.frame.DataFrame'>\n",
      "RangeIndex: 16715 entries, 0 to 16714\n",
      "Data columns (total 11 columns):\n",
      " #   Column           Non-Null Count  Dtype  \n",
      "---  ------           --------------  -----  \n",
      " 0   Name             16713 non-null  object \n",
      " 1   Platform         16715 non-null  object \n",
      " 2   Year_of_Release  16446 non-null  float64\n",
      " 3   Genre            16713 non-null  object \n",
      " 4   NA_sales         16715 non-null  float64\n",
      " 5   EU_sales         16715 non-null  float64\n",
      " 6   JP_sales         16715 non-null  float64\n",
      " 7   Other_sales      16715 non-null  float64\n",
      " 8   Critic_Score     8137 non-null   float64\n",
      " 9   User_Score       10014 non-null  object \n",
      " 10  Rating           9949 non-null   object \n",
      "dtypes: float64(6), object(5)\n",
      "memory usage: 1.4+ MB\n"
     ]
    }
   ],
   "source": [
    "data.info()"
   ]
  },
  {
   "cell_type": "code",
   "execution_count": 4,
   "metadata": {},
   "outputs": [
    {
     "data": {
      "text/html": [
       "<div>\n",
       "<style scoped>\n",
       "    .dataframe tbody tr th:only-of-type {\n",
       "        vertical-align: middle;\n",
       "    }\n",
       "\n",
       "    .dataframe tbody tr th {\n",
       "        vertical-align: top;\n",
       "    }\n",
       "\n",
       "    .dataframe thead th {\n",
       "        text-align: right;\n",
       "    }\n",
       "</style>\n",
       "<table border=\"1\" class=\"dataframe\">\n",
       "  <thead>\n",
       "    <tr style=\"text-align: right;\">\n",
       "      <th></th>\n",
       "      <th>Name</th>\n",
       "      <th>Platform</th>\n",
       "      <th>Year_of_Release</th>\n",
       "      <th>Genre</th>\n",
       "      <th>NA_sales</th>\n",
       "      <th>EU_sales</th>\n",
       "      <th>JP_sales</th>\n",
       "      <th>Other_sales</th>\n",
       "      <th>Critic_Score</th>\n",
       "      <th>User_Score</th>\n",
       "      <th>Rating</th>\n",
       "    </tr>\n",
       "  </thead>\n",
       "  <tbody>\n",
       "    <tr>\n",
       "      <th>0</th>\n",
       "      <td>Wii Sports</td>\n",
       "      <td>Wii</td>\n",
       "      <td>2006.0</td>\n",
       "      <td>Sports</td>\n",
       "      <td>41.36</td>\n",
       "      <td>28.96</td>\n",
       "      <td>3.77</td>\n",
       "      <td>8.45</td>\n",
       "      <td>76.0</td>\n",
       "      <td>8</td>\n",
       "      <td>E</td>\n",
       "    </tr>\n",
       "    <tr>\n",
       "      <th>1</th>\n",
       "      <td>Super Mario Bros.</td>\n",
       "      <td>NES</td>\n",
       "      <td>1985.0</td>\n",
       "      <td>Platform</td>\n",
       "      <td>29.08</td>\n",
       "      <td>3.58</td>\n",
       "      <td>6.81</td>\n",
       "      <td>0.77</td>\n",
       "      <td>NaN</td>\n",
       "      <td>NaN</td>\n",
       "      <td>NaN</td>\n",
       "    </tr>\n",
       "    <tr>\n",
       "      <th>2</th>\n",
       "      <td>Mario Kart Wii</td>\n",
       "      <td>Wii</td>\n",
       "      <td>2008.0</td>\n",
       "      <td>Racing</td>\n",
       "      <td>15.68</td>\n",
       "      <td>12.76</td>\n",
       "      <td>3.79</td>\n",
       "      <td>3.29</td>\n",
       "      <td>82.0</td>\n",
       "      <td>8.3</td>\n",
       "      <td>E</td>\n",
       "    </tr>\n",
       "    <tr>\n",
       "      <th>3</th>\n",
       "      <td>Wii Sports Resort</td>\n",
       "      <td>Wii</td>\n",
       "      <td>2009.0</td>\n",
       "      <td>Sports</td>\n",
       "      <td>15.61</td>\n",
       "      <td>10.93</td>\n",
       "      <td>3.28</td>\n",
       "      <td>2.95</td>\n",
       "      <td>80.0</td>\n",
       "      <td>8</td>\n",
       "      <td>E</td>\n",
       "    </tr>\n",
       "    <tr>\n",
       "      <th>4</th>\n",
       "      <td>Pokemon Red/Pokemon Blue</td>\n",
       "      <td>GB</td>\n",
       "      <td>1996.0</td>\n",
       "      <td>Role-Playing</td>\n",
       "      <td>11.27</td>\n",
       "      <td>8.89</td>\n",
       "      <td>10.22</td>\n",
       "      <td>1.00</td>\n",
       "      <td>NaN</td>\n",
       "      <td>NaN</td>\n",
       "      <td>NaN</td>\n",
       "    </tr>\n",
       "  </tbody>\n",
       "</table>\n",
       "</div>"
      ],
      "text/plain": [
       "                       Name Platform  Year_of_Release         Genre  NA_sales  \\\n",
       "0                Wii Sports      Wii           2006.0        Sports     41.36   \n",
       "1         Super Mario Bros.      NES           1985.0      Platform     29.08   \n",
       "2            Mario Kart Wii      Wii           2008.0        Racing     15.68   \n",
       "3         Wii Sports Resort      Wii           2009.0        Sports     15.61   \n",
       "4  Pokemon Red/Pokemon Blue       GB           1996.0  Role-Playing     11.27   \n",
       "\n",
       "   EU_sales  JP_sales  Other_sales  Critic_Score User_Score Rating  \n",
       "0     28.96      3.77         8.45          76.0          8      E  \n",
       "1      3.58      6.81         0.77           NaN        NaN    NaN  \n",
       "2     12.76      3.79         3.29          82.0        8.3      E  \n",
       "3     10.93      3.28         2.95          80.0          8      E  \n",
       "4      8.89     10.22         1.00           NaN        NaN    NaN  "
      ]
     },
     "execution_count": 4,
     "metadata": {},
     "output_type": "execute_result"
    }
   ],
   "source": [
    "data.head()"
   ]
  },
  {
   "cell_type": "markdown",
   "metadata": {},
   "source": [
    "***Вывод:*** В датасете есть пропуски. При предобработке данных нужно будет решить стоит ли их заполнять. Также необходимо изменить тип данных в некоторых столбцах. Больше всего смущает тип столбца User_Score. Также в предобработке следует разобратья почему данный столбец имеет такой тип и как перевести его в числовой вариант. "
   ]
  },
  {
   "cell_type": "markdown",
   "metadata": {},
   "source": [
    "## Предобработка данных"
   ]
  },
  {
   "cell_type": "markdown",
   "metadata": {},
   "source": [
    "### Преведение к нижнему регистру"
   ]
  },
  {
   "cell_type": "code",
   "execution_count": 5,
   "metadata": {},
   "outputs": [],
   "source": [
    "data.columns = data.columns.str.lower()"
   ]
  },
  {
   "cell_type": "code",
   "execution_count": 6,
   "metadata": {},
   "outputs": [
    {
     "data": {
      "text/html": [
       "<div>\n",
       "<style scoped>\n",
       "    .dataframe tbody tr th:only-of-type {\n",
       "        vertical-align: middle;\n",
       "    }\n",
       "\n",
       "    .dataframe tbody tr th {\n",
       "        vertical-align: top;\n",
       "    }\n",
       "\n",
       "    .dataframe thead th {\n",
       "        text-align: right;\n",
       "    }\n",
       "</style>\n",
       "<table border=\"1\" class=\"dataframe\">\n",
       "  <thead>\n",
       "    <tr style=\"text-align: right;\">\n",
       "      <th></th>\n",
       "      <th>name</th>\n",
       "      <th>platform</th>\n",
       "      <th>year_of_release</th>\n",
       "      <th>genre</th>\n",
       "      <th>na_sales</th>\n",
       "      <th>eu_sales</th>\n",
       "      <th>jp_sales</th>\n",
       "      <th>other_sales</th>\n",
       "      <th>critic_score</th>\n",
       "      <th>user_score</th>\n",
       "      <th>rating</th>\n",
       "    </tr>\n",
       "  </thead>\n",
       "  <tbody>\n",
       "    <tr>\n",
       "      <th>0</th>\n",
       "      <td>Wii Sports</td>\n",
       "      <td>Wii</td>\n",
       "      <td>2006.0</td>\n",
       "      <td>Sports</td>\n",
       "      <td>41.36</td>\n",
       "      <td>28.96</td>\n",
       "      <td>3.77</td>\n",
       "      <td>8.45</td>\n",
       "      <td>76.0</td>\n",
       "      <td>8</td>\n",
       "      <td>E</td>\n",
       "    </tr>\n",
       "    <tr>\n",
       "      <th>1</th>\n",
       "      <td>Super Mario Bros.</td>\n",
       "      <td>NES</td>\n",
       "      <td>1985.0</td>\n",
       "      <td>Platform</td>\n",
       "      <td>29.08</td>\n",
       "      <td>3.58</td>\n",
       "      <td>6.81</td>\n",
       "      <td>0.77</td>\n",
       "      <td>NaN</td>\n",
       "      <td>NaN</td>\n",
       "      <td>NaN</td>\n",
       "    </tr>\n",
       "    <tr>\n",
       "      <th>2</th>\n",
       "      <td>Mario Kart Wii</td>\n",
       "      <td>Wii</td>\n",
       "      <td>2008.0</td>\n",
       "      <td>Racing</td>\n",
       "      <td>15.68</td>\n",
       "      <td>12.76</td>\n",
       "      <td>3.79</td>\n",
       "      <td>3.29</td>\n",
       "      <td>82.0</td>\n",
       "      <td>8.3</td>\n",
       "      <td>E</td>\n",
       "    </tr>\n",
       "    <tr>\n",
       "      <th>3</th>\n",
       "      <td>Wii Sports Resort</td>\n",
       "      <td>Wii</td>\n",
       "      <td>2009.0</td>\n",
       "      <td>Sports</td>\n",
       "      <td>15.61</td>\n",
       "      <td>10.93</td>\n",
       "      <td>3.28</td>\n",
       "      <td>2.95</td>\n",
       "      <td>80.0</td>\n",
       "      <td>8</td>\n",
       "      <td>E</td>\n",
       "    </tr>\n",
       "    <tr>\n",
       "      <th>4</th>\n",
       "      <td>Pokemon Red/Pokemon Blue</td>\n",
       "      <td>GB</td>\n",
       "      <td>1996.0</td>\n",
       "      <td>Role-Playing</td>\n",
       "      <td>11.27</td>\n",
       "      <td>8.89</td>\n",
       "      <td>10.22</td>\n",
       "      <td>1.00</td>\n",
       "      <td>NaN</td>\n",
       "      <td>NaN</td>\n",
       "      <td>NaN</td>\n",
       "    </tr>\n",
       "    <tr>\n",
       "      <th>5</th>\n",
       "      <td>Tetris</td>\n",
       "      <td>GB</td>\n",
       "      <td>1989.0</td>\n",
       "      <td>Puzzle</td>\n",
       "      <td>23.20</td>\n",
       "      <td>2.26</td>\n",
       "      <td>4.22</td>\n",
       "      <td>0.58</td>\n",
       "      <td>NaN</td>\n",
       "      <td>NaN</td>\n",
       "      <td>NaN</td>\n",
       "    </tr>\n",
       "    <tr>\n",
       "      <th>6</th>\n",
       "      <td>New Super Mario Bros.</td>\n",
       "      <td>DS</td>\n",
       "      <td>2006.0</td>\n",
       "      <td>Platform</td>\n",
       "      <td>11.28</td>\n",
       "      <td>9.14</td>\n",
       "      <td>6.50</td>\n",
       "      <td>2.88</td>\n",
       "      <td>89.0</td>\n",
       "      <td>8.5</td>\n",
       "      <td>E</td>\n",
       "    </tr>\n",
       "    <tr>\n",
       "      <th>7</th>\n",
       "      <td>Wii Play</td>\n",
       "      <td>Wii</td>\n",
       "      <td>2006.0</td>\n",
       "      <td>Misc</td>\n",
       "      <td>13.96</td>\n",
       "      <td>9.18</td>\n",
       "      <td>2.93</td>\n",
       "      <td>2.84</td>\n",
       "      <td>58.0</td>\n",
       "      <td>6.6</td>\n",
       "      <td>E</td>\n",
       "    </tr>\n",
       "    <tr>\n",
       "      <th>8</th>\n",
       "      <td>New Super Mario Bros. Wii</td>\n",
       "      <td>Wii</td>\n",
       "      <td>2009.0</td>\n",
       "      <td>Platform</td>\n",
       "      <td>14.44</td>\n",
       "      <td>6.94</td>\n",
       "      <td>4.70</td>\n",
       "      <td>2.24</td>\n",
       "      <td>87.0</td>\n",
       "      <td>8.4</td>\n",
       "      <td>E</td>\n",
       "    </tr>\n",
       "    <tr>\n",
       "      <th>9</th>\n",
       "      <td>Duck Hunt</td>\n",
       "      <td>NES</td>\n",
       "      <td>1984.0</td>\n",
       "      <td>Shooter</td>\n",
       "      <td>26.93</td>\n",
       "      <td>0.63</td>\n",
       "      <td>0.28</td>\n",
       "      <td>0.47</td>\n",
       "      <td>NaN</td>\n",
       "      <td>NaN</td>\n",
       "      <td>NaN</td>\n",
       "    </tr>\n",
       "  </tbody>\n",
       "</table>\n",
       "</div>"
      ],
      "text/plain": [
       "                        name platform  year_of_release         genre  \\\n",
       "0                 Wii Sports      Wii           2006.0        Sports   \n",
       "1          Super Mario Bros.      NES           1985.0      Platform   \n",
       "2             Mario Kart Wii      Wii           2008.0        Racing   \n",
       "3          Wii Sports Resort      Wii           2009.0        Sports   \n",
       "4   Pokemon Red/Pokemon Blue       GB           1996.0  Role-Playing   \n",
       "5                     Tetris       GB           1989.0        Puzzle   \n",
       "6      New Super Mario Bros.       DS           2006.0      Platform   \n",
       "7                   Wii Play      Wii           2006.0          Misc   \n",
       "8  New Super Mario Bros. Wii      Wii           2009.0      Platform   \n",
       "9                  Duck Hunt      NES           1984.0       Shooter   \n",
       "\n",
       "   na_sales  eu_sales  jp_sales  other_sales  critic_score user_score rating  \n",
       "0     41.36     28.96      3.77         8.45          76.0          8      E  \n",
       "1     29.08      3.58      6.81         0.77           NaN        NaN    NaN  \n",
       "2     15.68     12.76      3.79         3.29          82.0        8.3      E  \n",
       "3     15.61     10.93      3.28         2.95          80.0          8      E  \n",
       "4     11.27      8.89     10.22         1.00           NaN        NaN    NaN  \n",
       "5     23.20      2.26      4.22         0.58           NaN        NaN    NaN  \n",
       "6     11.28      9.14      6.50         2.88          89.0        8.5      E  \n",
       "7     13.96      9.18      2.93         2.84          58.0        6.6      E  \n",
       "8     14.44      6.94      4.70         2.24          87.0        8.4      E  \n",
       "9     26.93      0.63      0.28         0.47           NaN        NaN    NaN  "
      ]
     },
     "execution_count": 6,
     "metadata": {},
     "output_type": "execute_result"
    }
   ],
   "source": [
    "data.head(10)"
   ]
  },
  {
   "cell_type": "markdown",
   "metadata": {},
   "source": [
    "***Вывод:*** Теперь будет легче обращаться к столбцам."
   ]
  },
  {
   "cell_type": "markdown",
   "metadata": {},
   "source": [
    "### Изменение типов данных"
   ]
  },
  {
   "cell_type": "markdown",
   "metadata": {},
   "source": [
    "В первую очередь нужно привести год к написанию целыми числами."
   ]
  },
  {
   "cell_type": "code",
   "execution_count": 7,
   "metadata": {},
   "outputs": [],
   "source": [
    "data['year_of_release'] = data['year_of_release'].astype('Int64')"
   ]
  },
  {
   "cell_type": "markdown",
   "metadata": {},
   "source": [
    "\"tbd\"(to be determined) в столбце User_score означает, что значение подлежит определению. Возможно, что оценок пользователей слишком мало, чтобы выявить среднюю оценку. Или не прошло нужное количество времени для определения. Считаю, что можно заменить данные значения на NaN и потом привести столбец к типу float."
   ]
  },
  {
   "cell_type": "code",
   "execution_count": 8,
   "metadata": {},
   "outputs": [],
   "source": [
    "data['user_score']=data['user_score'].replace('tbd',np.nan)"
   ]
  },
  {
   "cell_type": "code",
   "execution_count": 9,
   "metadata": {},
   "outputs": [],
   "source": [
    "data['user_score'] = data['user_score'].astype('float64')"
   ]
  },
  {
   "cell_type": "markdown",
   "metadata": {},
   "source": [
    "***Вывод:*** Все необходимые для исследования столбцы приведены к нужным типам. "
   ]
  },
  {
   "cell_type": "markdown",
   "metadata": {},
   "source": [
    "### Обработка пропусков"
   ]
  },
  {
   "cell_type": "code",
   "execution_count": 10,
   "metadata": {
    "scrolled": true
   },
   "outputs": [
    {
     "data": {
      "text/html": [
       "<div>\n",
       "<style scoped>\n",
       "    .dataframe tbody tr th:only-of-type {\n",
       "        vertical-align: middle;\n",
       "    }\n",
       "\n",
       "    .dataframe tbody tr th {\n",
       "        vertical-align: top;\n",
       "    }\n",
       "\n",
       "    .dataframe thead th {\n",
       "        text-align: right;\n",
       "    }\n",
       "</style>\n",
       "<table border=\"1\" class=\"dataframe\">\n",
       "  <thead>\n",
       "    <tr style=\"text-align: right;\">\n",
       "      <th></th>\n",
       "      <th>name</th>\n",
       "      <th>platform</th>\n",
       "      <th>year_of_release</th>\n",
       "      <th>genre</th>\n",
       "      <th>na_sales</th>\n",
       "      <th>eu_sales</th>\n",
       "      <th>jp_sales</th>\n",
       "      <th>other_sales</th>\n",
       "      <th>critic_score</th>\n",
       "      <th>user_score</th>\n",
       "      <th>rating</th>\n",
       "    </tr>\n",
       "  </thead>\n",
       "  <tbody>\n",
       "    <tr>\n",
       "      <th>659</th>\n",
       "      <td>NaN</td>\n",
       "      <td>GEN</td>\n",
       "      <td>1993</td>\n",
       "      <td>NaN</td>\n",
       "      <td>1.78</td>\n",
       "      <td>0.53</td>\n",
       "      <td>0.00</td>\n",
       "      <td>0.08</td>\n",
       "      <td>NaN</td>\n",
       "      <td>NaN</td>\n",
       "      <td>NaN</td>\n",
       "    </tr>\n",
       "    <tr>\n",
       "      <th>14244</th>\n",
       "      <td>NaN</td>\n",
       "      <td>GEN</td>\n",
       "      <td>1993</td>\n",
       "      <td>NaN</td>\n",
       "      <td>0.00</td>\n",
       "      <td>0.00</td>\n",
       "      <td>0.03</td>\n",
       "      <td>0.00</td>\n",
       "      <td>NaN</td>\n",
       "      <td>NaN</td>\n",
       "      <td>NaN</td>\n",
       "    </tr>\n",
       "  </tbody>\n",
       "</table>\n",
       "</div>"
      ],
      "text/plain": [
       "      name platform  year_of_release genre  na_sales  eu_sales  jp_sales  \\\n",
       "659    NaN      GEN             1993   NaN      1.78      0.53      0.00   \n",
       "14244  NaN      GEN             1993   NaN      0.00      0.00      0.03   \n",
       "\n",
       "       other_sales  critic_score  user_score rating  \n",
       "659           0.08           NaN         NaN    NaN  \n",
       "14244         0.00           NaN         NaN    NaN  "
      ]
     },
     "metadata": {},
     "output_type": "display_data"
    }
   ],
   "source": [
    "display(data.loc[data['name'].isnull()])"
   ]
  },
  {
   "cell_type": "code",
   "execution_count": 11,
   "metadata": {},
   "outputs": [
    {
     "name": "stdout",
     "output_type": "stream",
     "text": [
      "Процент пропущенных значений: 0.01\n"
     ]
    }
   ],
   "source": [
    "print('Процент пропущенных значений:', (data['name'].isnull().sum() / len(data)*100).round(2))"
   ]
  },
  {
   "cell_type": "markdown",
   "metadata": {},
   "source": [
    "Пропусков в столбце name всего 2 и данные скорее всего не входят в актуальный период. Моожно обойтись без этих данных."
   ]
  },
  {
   "cell_type": "code",
   "execution_count": 12,
   "metadata": {},
   "outputs": [
    {
     "name": "stdout",
     "output_type": "stream",
     "text": [
      "<class 'pandas.core.frame.DataFrame'>\n",
      "Int64Index: 16713 entries, 0 to 16714\n",
      "Data columns (total 11 columns):\n",
      " #   Column           Non-Null Count  Dtype  \n",
      "---  ------           --------------  -----  \n",
      " 0   name             16713 non-null  object \n",
      " 1   platform         16713 non-null  object \n",
      " 2   year_of_release  16444 non-null  Int64  \n",
      " 3   genre            16713 non-null  object \n",
      " 4   na_sales         16713 non-null  float64\n",
      " 5   eu_sales         16713 non-null  float64\n",
      " 6   jp_sales         16713 non-null  float64\n",
      " 7   other_sales      16713 non-null  float64\n",
      " 8   critic_score     8137 non-null   float64\n",
      " 9   user_score       7590 non-null   float64\n",
      " 10  rating           9949 non-null   object \n",
      "dtypes: Int64(1), float64(6), object(4)\n",
      "memory usage: 1.5+ MB\n"
     ]
    }
   ],
   "source": [
    "data = data.dropna(subset = ['name'])\n",
    "data.info()"
   ]
  },
  {
   "cell_type": "markdown",
   "metadata": {},
   "source": [
    "При решении вопроса о заполнении пропусков в столбце year_of_release посмотрим на процент пропущенных значений. "
   ]
  },
  {
   "cell_type": "code",
   "execution_count": 13,
   "metadata": {},
   "outputs": [
    {
     "name": "stdout",
     "output_type": "stream",
     "text": [
      "Процент пропущенных значений: 1.61\n"
     ]
    }
   ],
   "source": [
    "print('Процент пропущенных значений:', (data['year_of_release'].isnull().sum() / len(data)*100).round(2))"
   ]
  },
  {
   "cell_type": "markdown",
   "metadata": {},
   "source": [
    "Так как процент пропусков около 2%, то можем также удалить эти строки."
   ]
  },
  {
   "cell_type": "code",
   "execution_count": 14,
   "metadata": {},
   "outputs": [],
   "source": [
    "data = data.dropna(subset = ['year_of_release'])"
   ]
  },
  {
   "cell_type": "markdown",
   "metadata": {},
   "source": [
    "***Вывод:*** При обработке пропусков были удалены данные, которые составляют менее 10%. Значения в столбцах critic_score и user_score считаю не нужно заполнять, так как это может повлиять на выводы исследования. Значения в столбце рейтинг заполняются на основании решения специальной организации. Считаю, что мы не имеем права их заполнять как нам хочется. Поэтому в данном столбце считаю также нужно оставить пропуски незаполненными."
   ]
  },
  {
   "cell_type": "markdown",
   "metadata": {},
   "source": [
    "### Добавление столбцов"
   ]
  },
  {
   "cell_type": "markdown",
   "metadata": {},
   "source": [
    "Необходимо добавить столбец в суммой продаж во всем мире. Для этого сложим значения продаж в Северной Америке, Европе, Японии и других странах."
   ]
  },
  {
   "cell_type": "code",
   "execution_count": 15,
   "metadata": {},
   "outputs": [],
   "source": [
    "data['total_sales'] = data['na_sales'] + data['eu_sales'] + data['jp_sales']+ data['other_sales']"
   ]
  },
  {
   "cell_type": "code",
   "execution_count": 16,
   "metadata": {},
   "outputs": [
    {
     "data": {
      "text/html": [
       "<div>\n",
       "<style scoped>\n",
       "    .dataframe tbody tr th:only-of-type {\n",
       "        vertical-align: middle;\n",
       "    }\n",
       "\n",
       "    .dataframe tbody tr th {\n",
       "        vertical-align: top;\n",
       "    }\n",
       "\n",
       "    .dataframe thead th {\n",
       "        text-align: right;\n",
       "    }\n",
       "</style>\n",
       "<table border=\"1\" class=\"dataframe\">\n",
       "  <thead>\n",
       "    <tr style=\"text-align: right;\">\n",
       "      <th></th>\n",
       "      <th>name</th>\n",
       "      <th>platform</th>\n",
       "      <th>year_of_release</th>\n",
       "      <th>genre</th>\n",
       "      <th>na_sales</th>\n",
       "      <th>eu_sales</th>\n",
       "      <th>jp_sales</th>\n",
       "      <th>other_sales</th>\n",
       "      <th>critic_score</th>\n",
       "      <th>user_score</th>\n",
       "      <th>rating</th>\n",
       "      <th>total_sales</th>\n",
       "    </tr>\n",
       "  </thead>\n",
       "  <tbody>\n",
       "    <tr>\n",
       "      <th>0</th>\n",
       "      <td>Wii Sports</td>\n",
       "      <td>Wii</td>\n",
       "      <td>2006</td>\n",
       "      <td>Sports</td>\n",
       "      <td>41.36</td>\n",
       "      <td>28.96</td>\n",
       "      <td>3.77</td>\n",
       "      <td>8.45</td>\n",
       "      <td>76.0</td>\n",
       "      <td>8.0</td>\n",
       "      <td>E</td>\n",
       "      <td>82.54</td>\n",
       "    </tr>\n",
       "    <tr>\n",
       "      <th>1</th>\n",
       "      <td>Super Mario Bros.</td>\n",
       "      <td>NES</td>\n",
       "      <td>1985</td>\n",
       "      <td>Platform</td>\n",
       "      <td>29.08</td>\n",
       "      <td>3.58</td>\n",
       "      <td>6.81</td>\n",
       "      <td>0.77</td>\n",
       "      <td>NaN</td>\n",
       "      <td>NaN</td>\n",
       "      <td>NaN</td>\n",
       "      <td>40.24</td>\n",
       "    </tr>\n",
       "    <tr>\n",
       "      <th>2</th>\n",
       "      <td>Mario Kart Wii</td>\n",
       "      <td>Wii</td>\n",
       "      <td>2008</td>\n",
       "      <td>Racing</td>\n",
       "      <td>15.68</td>\n",
       "      <td>12.76</td>\n",
       "      <td>3.79</td>\n",
       "      <td>3.29</td>\n",
       "      <td>82.0</td>\n",
       "      <td>8.3</td>\n",
       "      <td>E</td>\n",
       "      <td>35.52</td>\n",
       "    </tr>\n",
       "    <tr>\n",
       "      <th>3</th>\n",
       "      <td>Wii Sports Resort</td>\n",
       "      <td>Wii</td>\n",
       "      <td>2009</td>\n",
       "      <td>Sports</td>\n",
       "      <td>15.61</td>\n",
       "      <td>10.93</td>\n",
       "      <td>3.28</td>\n",
       "      <td>2.95</td>\n",
       "      <td>80.0</td>\n",
       "      <td>8.0</td>\n",
       "      <td>E</td>\n",
       "      <td>32.77</td>\n",
       "    </tr>\n",
       "    <tr>\n",
       "      <th>4</th>\n",
       "      <td>Pokemon Red/Pokemon Blue</td>\n",
       "      <td>GB</td>\n",
       "      <td>1996</td>\n",
       "      <td>Role-Playing</td>\n",
       "      <td>11.27</td>\n",
       "      <td>8.89</td>\n",
       "      <td>10.22</td>\n",
       "      <td>1.00</td>\n",
       "      <td>NaN</td>\n",
       "      <td>NaN</td>\n",
       "      <td>NaN</td>\n",
       "      <td>31.38</td>\n",
       "    </tr>\n",
       "  </tbody>\n",
       "</table>\n",
       "</div>"
      ],
      "text/plain": [
       "                       name platform  year_of_release         genre  na_sales  \\\n",
       "0                Wii Sports      Wii             2006        Sports     41.36   \n",
       "1         Super Mario Bros.      NES             1985      Platform     29.08   \n",
       "2            Mario Kart Wii      Wii             2008        Racing     15.68   \n",
       "3         Wii Sports Resort      Wii             2009        Sports     15.61   \n",
       "4  Pokemon Red/Pokemon Blue       GB             1996  Role-Playing     11.27   \n",
       "\n",
       "   eu_sales  jp_sales  other_sales  critic_score  user_score rating  \\\n",
       "0     28.96      3.77         8.45          76.0         8.0      E   \n",
       "1      3.58      6.81         0.77           NaN         NaN    NaN   \n",
       "2     12.76      3.79         3.29          82.0         8.3      E   \n",
       "3     10.93      3.28         2.95          80.0         8.0      E   \n",
       "4      8.89     10.22         1.00           NaN         NaN    NaN   \n",
       "\n",
       "   total_sales  \n",
       "0        82.54  \n",
       "1        40.24  \n",
       "2        35.52  \n",
       "3        32.77  \n",
       "4        31.38  "
      ]
     },
     "metadata": {},
     "output_type": "display_data"
    }
   ],
   "source": [
    "display(data.head())"
   ]
  },
  {
   "cell_type": "markdown",
   "metadata": {},
   "source": [
    "### Вывод"
   ]
  },
  {
   "cell_type": "markdown",
   "metadata": {},
   "source": [
    "В ходе предобработки данных были заменены типы написания столбцов, типпы данных в столбцах, где это необходимо. Также были удалены около 2% данных. Остальные пропуски остались нетронутыми, так как нет данных для их заполнения и заполнение их медианной, модой или 0 может привести к искажению результатов анализа."
   ]
  },
  {
   "cell_type": "markdown",
   "metadata": {},
   "source": [
    "## Исследовательский анализ данных"
   ]
  },
  {
   "cell_type": "markdown",
   "metadata": {},
   "source": [
    "### Сколько игр выпускалось в разные годы"
   ]
  },
  {
   "cell_type": "markdown",
   "metadata": {},
   "source": [
    "Для начала необходимо посмотреть, сколько игр выпускалось в разные годы и важны ли данные за все периоды."
   ]
  },
  {
   "cell_type": "code",
   "execution_count": 17,
   "metadata": {},
   "outputs": [
    {
     "data": {
      "image/png": "[encoded data removed]",
      "text/plain": [
       "<Figure size 1080x360 with 1 Axes>"
      ]
     },
     "metadata": {
      "needs_background": "light"
     },
     "output_type": "display_data"
    }
   ],
   "source": [
    "data.pivot_table(index='year_of_release', values='total_sales', aggfunc='count').plot(figsize=(15, 5),title = 'Количество выпускаемых игр по годам')\n",
    "plt.show()"
   ]
  },
  {
   "cell_type": "markdown",
   "metadata": {},
   "source": [
    "***Вывод:*** Можно сказать, что зависимость от года есть,но не сильная. Конечно, меньше всего игр выпускалось в 1980-е, когда эта сфера только начала развиваться. С развитием сферы выпускалось все больше игр. Пик выпуска пришелся на 2008 год. Но актуальный период по этим данным не определить, так как платформы, которые выпускали в 2008 скорее всего сейчас не актуальны и не выпускают игры. "
   ]
  },
  {
   "cell_type": "markdown",
   "metadata": {},
   "source": [
    "### Как менялись продажи по платформам"
   ]
  },
  {
   "cell_type": "markdown",
   "metadata": {},
   "source": [
    "Для начала создадим сводную с топ-10 платформ по продажам"
   ]
  },
  {
   "cell_type": "code",
   "execution_count": 18,
   "metadata": {},
   "outputs": [],
   "source": [
    "top10 = data.pivot_table(index = 'platform', values = 'total_sales', aggfunc = 'sum').sort_values(by = 'total_sales',ascending = False).head(10).reset_index()\n"
   ]
  },
  {
   "cell_type": "markdown",
   "metadata": {},
   "source": [
    "Теперь сформируем словарь из названий платформ"
   ]
  },
  {
   "cell_type": "code",
   "execution_count": 19,
   "metadata": {},
   "outputs": [],
   "source": [
    "top10_dict = top10['platform'].unique()"
   ]
  },
  {
   "cell_type": "markdown",
   "metadata": {},
   "source": [
    "Посмотрим распределение продаж игр на топ-10 платформах по годам"
   ]
  },
  {
   "cell_type": "code",
   "execution_count": 20,
   "metadata": {},
   "outputs": [
    {
     "data": {
      "image/png": "[encoded data removed]",
      "text/plain": [
       "<Figure size 1080x360 with 1 Axes>"
      ]
     },
     "metadata": {
      "needs_background": "light"
     },
     "output_type": "display_data"
    }
   ],
   "source": [
    "data.query('platform in @top10_dict').pivot_table(index='year_of_release', columns = 'platform', values='total_sales', aggfunc='sum').plot(figsize=(15, 5),title = 'Распределение суммарных продаж самых продаваемых платформ по годам')\n",
    "plt.show()"
   ]
  },
  {
   "cell_type": "markdown",
   "metadata": {},
   "source": [
    "***Вывод:*** Можно сделать вывод, что жизненный цикл платформ составляет от 10 до 15 лет. Но на основании этих данных тоже невозможно определить актуальный период, Так как всего 4 платформы из 10 выпустили игры в 2016 году. PS приостановил выпуск еще в начале 2000-х. Можно сделать вывод, что сумма продаж по играм не является фактором их актуальности. "
   ]
  },
  {
   "cell_type": "markdown",
   "metadata": {},
   "source": [
    "### Определение актуального периода"
   ]
  },
  {
   "cell_type": "markdown",
   "metadata": {},
   "source": [
    "Для начала отсортируем платформы, на которых выпустились игры в 2016 году.  "
   ]
  },
  {
   "cell_type": "code",
   "execution_count": 21,
   "metadata": {},
   "outputs": [],
   "source": [
    "actual_platform = data.loc[data['year_of_release']==2016]"
   ]
  },
  {
   "cell_type": "markdown",
   "metadata": {},
   "source": [
    "Создадим словарь с названиями платформ"
   ]
  },
  {
   "cell_type": "code",
   "execution_count": 22,
   "metadata": {},
   "outputs": [],
   "source": [
    "actual_platform_dict = actual_platform['platform'].unique()"
   ]
  },
  {
   "cell_type": "markdown",
   "metadata": {},
   "source": [
    "Посмотрим распределение продаж игр на этих платформах по годам. "
   ]
  },
  {
   "cell_type": "code",
   "execution_count": 23,
   "metadata": {},
   "outputs": [
    {
     "data": {
      "image/png": "[encoded data removed]",
      "text/plain": [
       "<Figure size 1080x360 with 1 Axes>"
      ]
     },
     "metadata": {
      "needs_background": "light"
     },
     "output_type": "display_data"
    }
   ],
   "source": [
    "actual_platform_sales = data.query('platform in @actual_platform_dict and year_of_release>=2005').pivot_table(index='year_of_release', columns = 'platform', values='total_sales', aggfunc='sum').plot(figsize=(15, 5),title = 'Распределение суммарных продаж платформ, выпускающих игры в 2016 году, по годам')\n",
    "plt.show()"
   ]
  },
  {
   "cell_type": "markdown",
   "metadata": {},
   "source": [
    "***Вывод:*** Сначала хотела взять актуальным период с 2006 года, но потом передумала, потому что те платформы, которые обрели популярность в 2000-х к 2016 приблизились к нулевому показателю. Игры выпускаются, но они уже не ак актуальны в наше время. Поэтому решила брать период с 2011 года когда появляются игры 3DS, которая очень популярна в Японии. "
   ]
  },
  {
   "cell_type": "markdown",
   "metadata": {},
   "source": [
    "### Определение потенциально прибыльных платформ"
   ]
  },
  {
   "cell_type": "markdown",
   "metadata": {},
   "source": [
    "Далее необходимо определить какие платформы лидируют по продажам, растут или падают. Потом на основании анализа выбрать несколько потенциально прибыльных платформ."
   ]
  },
  {
   "cell_type": "code",
   "execution_count": 24,
   "metadata": {
    "scrolled": true
   },
   "outputs": [
    {
     "data": {
      "image/png": "[encoded data removed]",
      "text/plain": [
       "<Figure size 1080x360 with 1 Axes>"
      ]
     },
     "metadata": {
      "needs_background": "light"
     },
     "output_type": "display_data"
    }
   ],
   "source": [
    "actual_data = data.query('year_of_release >= 2014')\n",
    "actual_data_pivot = actual_data.pivot_table(index='year_of_release', columns = 'platform', values='total_sales', aggfunc='sum')\n",
    "actual_data_pivot.plot(figsize=(15, 5),title = 'Распределение суммарных продаж платформ по годам актуального периода')\n",
    "plt.show()"
   ]
  },
  {
   "cell_type": "code",
   "execution_count": 25,
   "metadata": {},
   "outputs": [
    {
     "data": {
      "text/html": [
       "<div>\n",
       "<style scoped>\n",
       "    .dataframe tbody tr th:only-of-type {\n",
       "        vertical-align: middle;\n",
       "    }\n",
       "\n",
       "    .dataframe tbody tr th {\n",
       "        vertical-align: top;\n",
       "    }\n",
       "\n",
       "    .dataframe thead th {\n",
       "        text-align: right;\n",
       "    }\n",
       "</style>\n",
       "<table border=\"1\" class=\"dataframe\">\n",
       "  <thead>\n",
       "    <tr style=\"text-align: right;\">\n",
       "      <th>platform</th>\n",
       "      <th>3DS</th>\n",
       "      <th>PC</th>\n",
       "      <th>PS3</th>\n",
       "      <th>PS4</th>\n",
       "      <th>PSP</th>\n",
       "      <th>PSV</th>\n",
       "      <th>Wii</th>\n",
       "      <th>WiiU</th>\n",
       "      <th>X360</th>\n",
       "      <th>XOne</th>\n",
       "    </tr>\n",
       "    <tr>\n",
       "      <th>year_of_release</th>\n",
       "      <th></th>\n",
       "      <th></th>\n",
       "      <th></th>\n",
       "      <th></th>\n",
       "      <th></th>\n",
       "      <th></th>\n",
       "      <th></th>\n",
       "      <th></th>\n",
       "      <th></th>\n",
       "      <th></th>\n",
       "    </tr>\n",
       "  </thead>\n",
       "  <tbody>\n",
       "    <tr>\n",
       "      <th>2014</th>\n",
       "      <td>43.76</td>\n",
       "      <td>13.28</td>\n",
       "      <td>47.76</td>\n",
       "      <td>100.00</td>\n",
       "      <td>0.24</td>\n",
       "      <td>11.90</td>\n",
       "      <td>3.75</td>\n",
       "      <td>22.03</td>\n",
       "      <td>34.74</td>\n",
       "      <td>54.07</td>\n",
       "    </tr>\n",
       "    <tr>\n",
       "      <th>2015</th>\n",
       "      <td>27.78</td>\n",
       "      <td>8.52</td>\n",
       "      <td>16.82</td>\n",
       "      <td>118.90</td>\n",
       "      <td>0.12</td>\n",
       "      <td>6.25</td>\n",
       "      <td>1.14</td>\n",
       "      <td>16.35</td>\n",
       "      <td>11.96</td>\n",
       "      <td>60.14</td>\n",
       "    </tr>\n",
       "    <tr>\n",
       "      <th>2016</th>\n",
       "      <td>15.14</td>\n",
       "      <td>5.25</td>\n",
       "      <td>3.60</td>\n",
       "      <td>69.25</td>\n",
       "      <td>NaN</td>\n",
       "      <td>4.25</td>\n",
       "      <td>0.18</td>\n",
       "      <td>4.60</td>\n",
       "      <td>1.52</td>\n",
       "      <td>26.15</td>\n",
       "    </tr>\n",
       "  </tbody>\n",
       "</table>\n",
       "</div>"
      ],
      "text/plain": [
       "platform           3DS     PC    PS3     PS4   PSP    PSV   Wii   WiiU   X360  \\\n",
       "year_of_release                                                                 \n",
       "2014             43.76  13.28  47.76  100.00  0.24  11.90  3.75  22.03  34.74   \n",
       "2015             27.78   8.52  16.82  118.90  0.12   6.25  1.14  16.35  11.96   \n",
       "2016             15.14   5.25   3.60   69.25   NaN   4.25  0.18   4.60   1.52   \n",
       "\n",
       "platform          XOne  \n",
       "year_of_release         \n",
       "2014             54.07  \n",
       "2015             60.14  \n",
       "2016             26.15  "
      ]
     },
     "metadata": {},
     "output_type": "display_data"
    }
   ],
   "source": [
    "display(actual_data_pivot)"
   ]
  },
  {
   "cell_type": "markdown",
   "metadata": {},
   "source": [
    "***Вывод:*** Так как данные за 2016 год неполные, решила смотреть по 2015 году. Исходя из сводной и  графика наиболее прибыльными платформами являются: PS4, XOne, 3DS."
   ]
  },
  {
   "cell_type": "markdown",
   "metadata": {},
   "source": [
    "### Ящик с усами по глобальным продажам"
   ]
  },
  {
   "cell_type": "code",
   "execution_count": 26,
   "metadata": {
    "scrolled": false
   },
   "outputs": [
    {
     "data": {
      "image/png": "[encoded data removed]",
      "text/plain": [
       "<Figure size 1080x720 with 1 Axes>"
      ]
     },
     "metadata": {
      "needs_background": "light"
     },
     "output_type": "display_data"
    },
    {
     "data": {
      "image/png": "[encoded data removed]",
      "text/plain": [
       "<Figure size 1080x720 with 1 Axes>"
      ]
     },
     "metadata": {
      "needs_background": "light"
     },
     "output_type": "display_data"
    }
   ],
   "source": [
    "plt.figure(figsize=(15,10))\n",
    "sns.boxplot(data=actual_data_pivot, palette='rainbow', showfliers=False)\n",
    "plt.show()\n",
    "\n",
    "plt.figure(figsize=(15,10))\n",
    "plt.ylim(0,20)\n",
    "sns.boxplot(data=actual_data_pivot, palette='rainbow', showfliers=False)\n",
    "plt.show()"
   ]
  },
  {
   "cell_type": "markdown",
   "metadata": {},
   "source": [
    "***Вывод:*** Самый большой разброс и самые большие показатели у PS4. У Xone медиана близится к 75% квантилю. Показатели PSP практически равны нулю. По графику также наиболее привлекательными выглядят PS4,Xone и 3DS.  "
   ]
  },
  {
   "cell_type": "markdown",
   "metadata": {},
   "source": [
    "### Влияние оценок на продажи внутри одной платформы"
   ]
  },
  {
   "cell_type": "markdown",
   "metadata": {},
   "source": [
    "Для проверки вляиния оценок на продажи внутри одной платформы возьмем PS4"
   ]
  },
  {
   "cell_type": "code",
   "execution_count": 27,
   "metadata": {
    "scrolled": true
   },
   "outputs": [
    {
     "data": {
      "text/html": [
       "<div>\n",
       "<style scoped>\n",
       "    .dataframe tbody tr th:only-of-type {\n",
       "        vertical-align: middle;\n",
       "    }\n",
       "\n",
       "    .dataframe tbody tr th {\n",
       "        vertical-align: top;\n",
       "    }\n",
       "\n",
       "    .dataframe thead th {\n",
       "        text-align: right;\n",
       "    }\n",
       "</style>\n",
       "<table border=\"1\" class=\"dataframe\">\n",
       "  <thead>\n",
       "    <tr style=\"text-align: right;\">\n",
       "      <th></th>\n",
       "      <th>total_sales</th>\n",
       "      <th>user_score</th>\n",
       "      <th>critic_score</th>\n",
       "    </tr>\n",
       "  </thead>\n",
       "  <tbody>\n",
       "    <tr>\n",
       "      <th>total_sales</th>\n",
       "      <td>1.0</td>\n",
       "      <td>-0.040132</td>\n",
       "      <td>0.402661</td>\n",
       "    </tr>\n",
       "  </tbody>\n",
       "</table>\n",
       "</div>"
      ],
      "text/plain": [
       "             total_sales  user_score  critic_score\n",
       "total_sales          1.0   -0.040132      0.402661"
      ]
     },
     "execution_count": 27,
     "metadata": {},
     "output_type": "execute_result"
    }
   ],
   "source": [
    "actual_data.query('platform == \"PS4\"')[['total_sales', 'user_score', 'critic_score']].corr().head(1)"
   ]
  },
  {
   "cell_type": "code",
   "execution_count": 28,
   "metadata": {
    "scrolled": true
   },
   "outputs": [
    {
     "data": {
      "image/png": "[encoded data removed]",
      "text/plain": [
       "<Figure size 432x288 with 1 Axes>"
      ]
     },
     "metadata": {
      "needs_background": "light"
     },
     "output_type": "display_data"
    },
    {
     "data": {
      "image/png": "[encoded data removed]",
      "text/plain": [
       "<Figure size 432x288 with 1 Axes>"
      ]
     },
     "metadata": {
      "needs_background": "light"
     },
     "output_type": "display_data"
    }
   ],
   "source": [
    "actual_data.query('platform == \"PS4\"')[['total_sales', 'user_score']].plot(kind = 'scatter', x = 'user_score', y = 'total_sales', alpha = 0.7, title = 'Влияние оценок пользователей на игры PS4')\n",
    "actual_data.query('platform == \"PS4\"')[['total_sales', 'critic_score']].plot(kind = 'scatter', x = 'critic_score', y = 'total_sales', color = 'orange', alpha = 0.7, title = 'Влияние оценок критиков на игры PS4')\n",
    "plt.show()"
   ]
  },
  {
   "cell_type": "markdown",
   "metadata": {},
   "source": [
    "***Вывод:*** От оценок пользователей продажи практически не влияют. А вот оценки критиков имеют вляние: чем выше оценка, тем больше продажи. "
   ]
  },
  {
   "cell_type": "markdown",
   "metadata": {},
   "source": [
    "### Сравнение влияния оценок на продажи внутри других платформ"
   ]
  },
  {
   "cell_type": "code",
   "execution_count": 29,
   "metadata": {},
   "outputs": [
    {
     "data": {
      "text/html": [
       "<div>\n",
       "<style scoped>\n",
       "    .dataframe tbody tr th:only-of-type {\n",
       "        vertical-align: middle;\n",
       "    }\n",
       "\n",
       "    .dataframe tbody tr th {\n",
       "        vertical-align: top;\n",
       "    }\n",
       "\n",
       "    .dataframe thead th {\n",
       "        text-align: right;\n",
       "    }\n",
       "</style>\n",
       "<table border=\"1\" class=\"dataframe\">\n",
       "  <thead>\n",
       "    <tr style=\"text-align: right;\">\n",
       "      <th></th>\n",
       "      <th>total_sales</th>\n",
       "      <th>user_score</th>\n",
       "      <th>critic_score</th>\n",
       "    </tr>\n",
       "  </thead>\n",
       "  <tbody>\n",
       "    <tr>\n",
       "      <th>total_sales</th>\n",
       "      <td>1.0</td>\n",
       "      <td>0.215193</td>\n",
       "      <td>0.314117</td>\n",
       "    </tr>\n",
       "  </tbody>\n",
       "</table>\n",
       "</div>"
      ],
      "text/plain": [
       "             total_sales  user_score  critic_score\n",
       "total_sales          1.0    0.215193      0.314117"
      ]
     },
     "execution_count": 29,
     "metadata": {},
     "output_type": "execute_result"
    }
   ],
   "source": [
    "actual_data.query('platform == \"3DS\"')[['total_sales', 'user_score', 'critic_score']].corr().head(1)\n"
   ]
  },
  {
   "cell_type": "code",
   "execution_count": 30,
   "metadata": {},
   "outputs": [
    {
     "data": {
      "image/png": "[encoded data removed]",
      "text/plain": [
       "<Figure size 432x288 with 1 Axes>"
      ]
     },
     "metadata": {
      "needs_background": "light"
     },
     "output_type": "display_data"
    },
    {
     "data": {
      "image/png": "[encoded data removed]",
      "text/plain": [
       "<Figure size 432x288 with 1 Axes>"
      ]
     },
     "metadata": {
      "needs_background": "light"
     },
     "output_type": "display_data"
    }
   ],
   "source": [
    "actual_data.query('platform == \"3DS\"')[['total_sales', 'user_score']].plot(kind = 'scatter', x = 'user_score', y = 'total_sales', alpha = 0.7, title = 'Влияние оценок пользователей на игры 3DS')\n",
    "actual_data.query('platform == \"3DS\"')[['total_sales', 'critic_score']].plot(kind = 'scatter', x = 'critic_score', y = 'total_sales', color = 'orange', alpha = 0.7, title = 'Влияние оценок критиков на игры 3DS')\n",
    "plt.show()"
   ]
  },
  {
   "cell_type": "markdown",
   "metadata": {},
   "source": [
    "На 3DS ситуация изменилась. Оценки пользователей и критиков почти вравней степени влияют на количество продаж."
   ]
  },
  {
   "cell_type": "code",
   "execution_count": 31,
   "metadata": {},
   "outputs": [
    {
     "data": {
      "text/html": [
       "<div>\n",
       "<style scoped>\n",
       "    .dataframe tbody tr th:only-of-type {\n",
       "        vertical-align: middle;\n",
       "    }\n",
       "\n",
       "    .dataframe tbody tr th {\n",
       "        vertical-align: top;\n",
       "    }\n",
       "\n",
       "    .dataframe thead th {\n",
       "        text-align: right;\n",
       "    }\n",
       "</style>\n",
       "<table border=\"1\" class=\"dataframe\">\n",
       "  <thead>\n",
       "    <tr style=\"text-align: right;\">\n",
       "      <th></th>\n",
       "      <th>total_sales</th>\n",
       "      <th>user_score</th>\n",
       "      <th>critic_score</th>\n",
       "    </tr>\n",
       "  </thead>\n",
       "  <tbody>\n",
       "    <tr>\n",
       "      <th>total_sales</th>\n",
       "      <td>1.0</td>\n",
       "      <td>-0.070384</td>\n",
       "      <td>0.428677</td>\n",
       "    </tr>\n",
       "  </tbody>\n",
       "</table>\n",
       "</div>"
      ],
      "text/plain": [
       "             total_sales  user_score  critic_score\n",
       "total_sales          1.0   -0.070384      0.428677"
      ]
     },
     "execution_count": 31,
     "metadata": {},
     "output_type": "execute_result"
    }
   ],
   "source": [
    "actual_data.query('platform == \"XOne\"')[['total_sales', 'user_score', 'critic_score']].corr().head(1)"
   ]
  },
  {
   "cell_type": "code",
   "execution_count": 32,
   "metadata": {},
   "outputs": [
    {
     "data": {
      "image/png": "[encoded data removed]",
      "text/plain": [
       "<Figure size 432x288 with 1 Axes>"
      ]
     },
     "metadata": {
      "needs_background": "light"
     },
     "output_type": "display_data"
    },
    {
     "data": {
      "image/png": "[encoded data removed]",
      "text/plain": [
       "<Figure size 432x288 with 1 Axes>"
      ]
     },
     "metadata": {
      "needs_background": "light"
     },
     "output_type": "display_data"
    }
   ],
   "source": [
    "actual_data.query('platform == \"XOne\"')[['total_sales', 'user_score']].plot(kind = 'scatter', x = 'user_score', y = 'total_sales', alpha = 0.7, title = 'Влияние оценок пользователей на игры XOne')\n",
    "actual_data.query('platform == \"XOne\"')[['total_sales', 'critic_score']].plot(kind = 'scatter', x = 'critic_score', y = 'total_sales', color = 'orange', alpha = 0.7, title = 'Влияние оценок критиков на игры XOne')\n",
    "plt.show()"
   ]
  },
  {
   "cell_type": "markdown",
   "metadata": {},
   "source": [
    "На XOne ситуация идентичная PS4."
   ]
  },
  {
   "cell_type": "markdown",
   "metadata": {},
   "source": [
    "***Вывод:*** Оценка критиков влияет на количество продаж во всех трёх рассмотренных случаях. Оценка пользователей не так сильно влияет или не влияет вовсе. Думаю это объясняется тем, что критики это обычно люди имеющие атворитет в этой сфере. Люди, которые могут сравнивать разные жанры игр. Пользователи зачастую отонсятся к определенным жанрам субъективно и не могут служить показаетелм того, что игра хорошая. Возможно пользователб просто не любит такой жанр. "
   ]
  },
  {
   "cell_type": "markdown",
   "metadata": {},
   "source": [
    "### Общее распределение игр по жанрам"
   ]
  },
  {
   "cell_type": "markdown",
   "metadata": {},
   "source": [
    "Для начала посчитаем общее количество продаж игр по жанрам."
   ]
  },
  {
   "cell_type": "code",
   "execution_count": 33,
   "metadata": {},
   "outputs": [],
   "source": [
    "genre_actual_sum = actual_data.pivot_table(index = 'genre', values = 'total_sales', aggfunc = 'sum')\n"
   ]
  },
  {
   "cell_type": "code",
   "execution_count": 34,
   "metadata": {},
   "outputs": [
    {
     "data": {
      "image/png": "[encoded data removed]",
      "text/plain": [
       "<Figure size 432x288 with 1 Axes>"
      ]
     },
     "metadata": {
      "needs_background": "light"
     },
     "output_type": "display_data"
    }
   ],
   "source": [
    "genre_actual_sum.plot(kind='bar', title = 'Распределение суммарного количества продаж по жанрам')\n",
    "plt.show()"
   ]
  },
  {
   "cell_type": "markdown",
   "metadata": {},
   "source": [
    "Жанр Action явно лидирует, но точно ли это обусловлено большим спросом или в этом жанре просто выпускается больше игр. Нам поможет разобраться медианна. \n",
    "Меньше всего продаж у жанра Puzzle"
   ]
  },
  {
   "cell_type": "code",
   "execution_count": 35,
   "metadata": {},
   "outputs": [],
   "source": [
    "genre_actual_count = actual_data.pivot_table(index = 'genre',values = 'total_sales', aggfunc = 'median')"
   ]
  },
  {
   "cell_type": "code",
   "execution_count": 36,
   "metadata": {},
   "outputs": [
    {
     "data": {
      "image/png": "[encoded data removed]",
      "text/plain": [
       "<Figure size 432x288 with 1 Axes>"
      ]
     },
     "metadata": {
      "needs_background": "light"
     },
     "output_type": "display_data"
    }
   ],
   "source": [
    "genre_actual_count.plot(kind='bar', title = 'Распределение медианного значения от количества продаж по жанрам')\n",
    "plt.show()"
   ]
  },
  {
   "cell_type": "markdown",
   "metadata": {},
   "source": [
    "Тут все обстоит по-другому. По медианному значению лидирует жанр Shooter. Лидер по продажам жанр Action где-то посередине. Возможно, что в жанре Action просто чаще выпускаются игры, поэтому этот жанр лидирует по числу продаж. \n",
    "В данном случае меньше всего продаж у жанра Adventure,но показатели аутсайдера - жанра Puzzle тоже не сильно повысились."
   ]
  },
  {
   "cell_type": "markdown",
   "metadata": {},
   "source": [
    "### Вывод"
   ]
  },
  {
   "cell_type": "markdown",
   "metadata": {},
   "source": [
    "В ходе исследовательского анализа было выявлено, что в среднем платформы актуальны 10-15 лет. При анализе важно учитывать данные не за все периоды, а только за актуальные. В данном исследовании актуальным я посчитала срок 3 года с 2014 по 2016 год. На 2016 год потенциально прибыльными для всего мира считаются PS4 и XOne. Можно еще добавить к прибыльным 3DS, так как думаю при составлении портрета пользователя в Японии эта платформа будет показывать большие показатели. Отзывы пользователей почти не влияют на продажи игр, а вот отзывы критиков влияют. Самым популярным во всем мире является жанр shooter,хоть по сумме продаж лидировал жанр Action. "
   ]
  },
  {
   "cell_type": "markdown",
   "metadata": {},
   "source": [
    "## Портрет пользователя"
   ]
  },
  {
   "cell_type": "markdown",
   "metadata": {},
   "source": [
    "### Портрет пользователя в странах Северной Америки"
   ]
  },
  {
   "cell_type": "code",
   "execution_count": 37,
   "metadata": {
    "scrolled": true
   },
   "outputs": [
    {
     "data": {
      "image/png": "[encoded data removed]",
      "text/plain": [
       "<Figure size 1080x360 with 1 Axes>"
      ]
     },
     "metadata": {
      "needs_background": "light"
     },
     "output_type": "display_data"
    }
   ],
   "source": [
    "actual_na_sales = actual_data.pivot_table(index='year_of_release', columns = 'platform', values='na_sales', aggfunc='sum')\n",
    "actual_na_sales.plot(figsize=(15, 5),title = 'Распределение суммарных продаж платформ по годам в Северной Америке')\n",
    "plt.show()"
   ]
  },
  {
   "cell_type": "code",
   "execution_count": 38,
   "metadata": {},
   "outputs": [
    {
     "data": {
      "image/png": "[encoded data removed]",
      "text/plain": [
       "<Figure size 432x288 with 1 Axes>"
      ]
     },
     "metadata": {
      "needs_background": "light"
     },
     "output_type": "display_data"
    }
   ],
   "source": [
    "genre_na = actual_data.pivot_table(index = 'genre', values = 'na_sales', aggfunc = 'median', )\n",
    "genre_na.plot(kind='bar', title = 'Распределение медианного значения продаж по жанрам в Северной Америке')\n",
    "plt.show()"
   ]
  },
  {
   "cell_type": "markdown",
   "metadata": {},
   "source": [
    "***Вывод:*** В Северной Америке актуальными и популярными платформами являются PS4 и XOne. Самым популярным жанром является Shooter."
   ]
  },
  {
   "cell_type": "markdown",
   "metadata": {},
   "source": [
    "### Портрет пользователя в странах Европы"
   ]
  },
  {
   "cell_type": "code",
   "execution_count": 39,
   "metadata": {
    "scrolled": true
   },
   "outputs": [
    {
     "data": {
      "image/png": "[encoded data removed]",
      "text/plain": [
       "<Figure size 1080x360 with 1 Axes>"
      ]
     },
     "metadata": {
      "needs_background": "light"
     },
     "output_type": "display_data"
    }
   ],
   "source": [
    "actual_eu_sales = actual_data.pivot_table(index='year_of_release', columns = 'platform', values='eu_sales', aggfunc='sum')\n",
    "actual_eu_sales.plot(figsize=(15, 5),title = 'Распределение суммарных продаж платформ по годам в странах Европы')\n",
    "plt.show()"
   ]
  },
  {
   "cell_type": "code",
   "execution_count": 40,
   "metadata": {},
   "outputs": [
    {
     "data": {
      "image/png": "[encoded data removed]",
      "text/plain": [
       "<Figure size 432x288 with 1 Axes>"
      ]
     },
     "metadata": {
      "needs_background": "light"
     },
     "output_type": "display_data"
    }
   ],
   "source": [
    "genre_eu = actual_data.pivot_table(index = 'genre', values = 'eu_sales', aggfunc = 'median')\n",
    "genre_eu.plot(kind='bar', title = 'Распределение медианного значения продаж по жанрам в странах Европы')\n",
    "plt.show()"
   ]
  },
  {
   "cell_type": "markdown",
   "metadata": {},
   "source": [
    "***Вывод:*** В Европе PS4 более популярен, чем XOne. Жанр Shooter также является самым популярным."
   ]
  },
  {
   "cell_type": "markdown",
   "metadata": {},
   "source": [
    "### Портрет пользователя в Японии"
   ]
  },
  {
   "cell_type": "code",
   "execution_count": 41,
   "metadata": {},
   "outputs": [
    {
     "data": {
      "image/png": "[encoded data removed]",
      "text/plain": [
       "<Figure size 1080x360 with 1 Axes>"
      ]
     },
     "metadata": {
      "needs_background": "light"
     },
     "output_type": "display_data"
    }
   ],
   "source": [
    "actual_jp_sales = actual_data.pivot_table(index='year_of_release', columns = 'platform', values='jp_sales', aggfunc='sum')\n",
    "actual_jp_sales.plot(figsize=(15, 5),title = 'Распределение суммарных продаж платформ по годам в Японии')\n",
    "plt.show()"
   ]
  },
  {
   "cell_type": "code",
   "execution_count": 42,
   "metadata": {},
   "outputs": [
    {
     "data": {
      "image/png": "[encoded data removed]",
      "text/plain": [
       "<Figure size 432x288 with 1 Axes>"
      ]
     },
     "metadata": {
      "needs_background": "light"
     },
     "output_type": "display_data"
    }
   ],
   "source": [
    "genre_jp = actual_data.pivot_table(index = 'genre', values = 'jp_sales', aggfunc = 'median')\n",
    "genre_jp.plot(kind='bar', title = 'Распределение медианного значения продаж по жанрам в Японии')\n",
    "plt.show()"
   ]
  },
  {
   "cell_type": "markdown",
   "metadata": {},
   "source": [
    "В Японии всегда интересно смотреть показатели, потому что они отличаются от показателей в остальном мире. Самая популярная платформа в Японии это 3DS, а самый популярный жанр это Role-Playing."
   ]
  },
  {
   "cell_type": "markdown",
   "metadata": {},
   "source": [
    "### Портрет пользователя в других странах"
   ]
  },
  {
   "cell_type": "code",
   "execution_count": 43,
   "metadata": {
    "scrolled": true
   },
   "outputs": [
    {
     "data": {
      "image/png": "[encoded data removed]",
      "text/plain": [
       "<Figure size 1080x360 with 1 Axes>"
      ]
     },
     "metadata": {
      "needs_background": "light"
     },
     "output_type": "display_data"
    }
   ],
   "source": [
    "actual_other_sales = actual_data.pivot_table(index='year_of_release', columns = 'platform', values='other_sales', aggfunc='sum')\n",
    "actual_other_sales.plot(figsize=(15, 5),title = 'Распределение суммарных продаж платформ по годам в остальных странах')\n",
    "plt.show()"
   ]
  },
  {
   "cell_type": "code",
   "execution_count": 44,
   "metadata": {},
   "outputs": [
    {
     "data": {
      "image/png": "[encoded data removed]",
      "text/plain": [
       "<Figure size 432x288 with 1 Axes>"
      ]
     },
     "metadata": {
      "needs_background": "light"
     },
     "output_type": "display_data"
    }
   ],
   "source": [
    "genre_other = actual_data.pivot_table(index = 'genre', values = 'other_sales', aggfunc = 'median')\n",
    "genre_other.plot(kind='bar', title = 'Распределение медианного значения продаж по жанрам в остальных странах')\n",
    "plt.show()"
   ]
  },
  {
   "cell_type": "markdown",
   "metadata": {},
   "source": [
    "В остальных странах картина такая же как и в Европе. Чаще всего пользователи играют Shooter игры на PS4."
   ]
  },
  {
   "cell_type": "markdown",
   "metadata": {},
   "source": [
    "### Изучение влияния рейтинга ESRB на продажи в отдельном регионе"
   ]
  },
  {
   "cell_type": "code",
   "execution_count": 45,
   "metadata": {
    "scrolled": false
   },
   "outputs": [
    {
     "data": {
      "image/png": "[encoded data removed]",
      "text/plain": [
       "<Figure size 432x288 with 1 Axes>"
      ]
     },
     "metadata": {
      "needs_background": "light"
     },
     "output_type": "display_data"
    }
   ],
   "source": [
    "actual_data.pivot_table(index = 'rating',values = ['na_sales','eu_sales','jp_sales','other_sales'], aggfunc = 'sum').plot(kind='bar', title = 'Влияние рейтинга ESRB на продажи вотдельных регионах')\n",
    "plt.show()"
   ]
  },
  {
   "cell_type": "markdown",
   "metadata": {},
   "source": [
    "***Вывод:*** В странах Северной Америки, Европе и других странах чаще всего покупают игры с рейтингом от 17 лет. В Японии показатели отличаются. Можно сказать, что практически игры со всеми рейтингами покупаются на одном уровне, но небольшое преимущество у рейтингра игр \"для подростков\". "
   ]
  },
  {
   "cell_type": "markdown",
   "metadata": {},
   "source": [
    "### Вывод"
   ]
  },
  {
   "cell_type": "markdown",
   "metadata": {},
   "source": [
    "Пользователи во всем мире почти не отличаются от своих предпочтений. Покупают шутеры на PS4 и XOne. В Европе только чаще играют в PS4.  А вот Япония как-будто живет в другом мире, потому что в Японии самой популярной платформой является 3DS, а жанр - Role-playing. Этим же и отличается влияние рейтинга. Думаю все шуттеры имеют рейтинг от 17 лет, поэтому во всем мире чаще покупают игры с этим рейтингом. Role-playing. же редко бывает 17+ и обычно подходит каждому, поэтому в Японии показатели по рейтингу 17+ небольшие. "
   ]
  },
  {
   "cell_type": "markdown",
   "metadata": {},
   "source": [
    "## Проверка гипотез"
   ]
  },
  {
   "cell_type": "markdown",
   "metadata": {},
   "source": [
    "### Средние пользовательские рейтинги платформ Xbox One и PC "
   ]
  },
  {
   "cell_type": "markdown",
   "metadata": {},
   "source": [
    "Гипотеза 0 = Средние пользовательские рейтинги платформ Xbox One и PC одинаковые\n",
    "\n",
    "Гипотеза 1 = Средние пользовательсткие рейтинги платформ Xbox One и PC  различаются"
   ]
  },
  {
   "cell_type": "code",
   "execution_count": 46,
   "metadata": {},
   "outputs": [
    {
     "name": "stdout",
     "output_type": "stream",
     "text": [
      "p-значение: 0.3578752178840483\n",
      "Не получилось отвергнуть нулевую гипотезу\n"
     ]
    }
   ],
   "source": [
    "alpha = 0.05\n",
    "\n",
    "data_test = data.query('user_score > 0') #чтобы не учитывались пропущенные значения в столбце\n",
    "\n",
    "xbox = data_test.query('platform == \"XOne\"') #сделаем выборку по одной из платформ\n",
    "x_max = xbox['year_of_release'].max() #важно проанализировать данные за один год, возьмем например 2016. \n",
    "pc = data_test.query('\"PC\" in platform').query('year_of_release >= @x_max') #теперь сделаем выборку по другой платформе\n",
    "\n",
    "\n",
    "results = st.ttest_ind(pc['user_score'],xbox['user_score'])\n",
    "print('p-значение:', results.pvalue)\n",
    "\n",
    "if (results.pvalue > alpha):\n",
    "    print('Не получилось отвергнуть нулевую гипотезу')\n",
    "else:\n",
    "    print('Отвергаем нулевую гипотезу')\n"
   ]
  },
  {
   "cell_type": "markdown",
   "metadata": {},
   "source": [
    "По результатам проверки гипотезы установлено, что средние пользовательские рейтинги платформ Xbox One и PC одинаковые."
   ]
  },
  {
   "cell_type": "markdown",
   "metadata": {},
   "source": [
    "### Средние пользовательские рейтинги жанров Action и Sports"
   ]
  },
  {
   "cell_type": "markdown",
   "metadata": {},
   "source": [
    "Гипотеза 0 = Средние пользовательские рейтинги жанра Action совпадают с рейтингами жанра Sports \n",
    "\n",
    "Гипотеза 1 = Средние пользовательские рейтинги жанров Action и Sports разные."
   ]
  },
  {
   "cell_type": "code",
   "execution_count": 47,
   "metadata": {},
   "outputs": [
    {
     "name": "stdout",
     "output_type": "stream",
     "text": [
      "p-значение: 0.06480928064420527\n",
      "Отвергаем нулевую гипотезу\n"
     ]
    }
   ],
   "source": [
    "action = data_test.query('genre == \"Action\"')\n",
    "sports = data_test.query('genre == \"Sports\"')\n",
    "\n",
    "alpha = 0.05\n",
    "\n",
    "results = st.ttest_ind(action['user_score'],sports['user_score'])\n",
    "print('p-значение:', results.pvalue)\n",
    "\n",
    "if (results.pvalue > alpha):\n",
    "    print('Отвергаем нулевую гипотезу')\n",
    "else:\n",
    "    print('Не получилось отвергнуть нулевую гипотезу')\n",
    "    \n"
   ]
  },
  {
   "cell_type": "markdown",
   "metadata": {},
   "source": [
    "По результатам проверки гипотезы можно сделать вывод, что средние пользовательские рейтинги жанров Action и Sports разные."
   ]
  },
  {
   "cell_type": "markdown",
   "metadata": {},
   "source": [
    "### Вывод"
   ]
  },
  {
   "cell_type": "markdown",
   "metadata": {},
   "source": [
    "По результатам проверки гипотез можно сделать вывод, что средние пользовательские рейтинги платформ Xbox One и PC одинаковые, а средние пользовательские рейтинги жанров Action и Sports различаются."
   ]
  },
  {
   "cell_type": "markdown",
   "metadata": {},
   "source": [
    "## Общий вывод"
   ]
  },
  {
   "cell_type": "markdown",
   "metadata": {},
   "source": [
    "В ходе исследования было выполнено:\n",
    "\n",
    "- Удалено около 2% данных\n",
    "- Принято решение не заполнять оставшиеся пропуски для предотвращения искажения результатов анализа\n",
    "- Проведен исследовательский анализ данных в ходе которого:\n",
    "    - установлена длительностть жизненного цикла платформ (10-15 лет)\n",
    "    - определен актуальный период для анализа (с 2014 года)\n",
    "    - определены потенциально прибыльные платформы (PS4, Xbox One и 3DS)\n",
    "    - 3DS представляется наиболее стабильной платформой\n",
    "    - изучено влияние оценок на количество продаж (оценки пользователей мало влияют на количество продаж, а оценки критиков влияют в большей степени. Чем оценка критика выше, тем чаще покупают игру.\n",
    "- Составлены портреты пользователей в разных частях мира. В основном весь мир играет в одинаковые жанры на одинаковых платформах. Япония выделяется от всех как популярной платформой так и популярным жанром. \n",
    "- Изучено влияние рейтинга на количество продаж. Выявлено, что рейтинг не является фактором, влияющим на количество продаж. \n",
    "- Проверены две гипотезы:\n",
    "    - средние пользовательские рейтинги платформ Xbox One и PC одинаковые (подтвердилась)\n",
    "    - средние пользовательские рейтинги жанров Action и Sports разные (подтвердилась).\n",
    "\n",
    "Ркомендации к планированию:\n",
    "\n",
    "- акцентировать внимание на шутерах на PS4 и Xbox One, а также для Японии на РПГ на 3DS.\n",
    "- также можно уделить внимание на PS4 и Xbox One платформерам, гонкам и игры о спорте. На 3DS можно также обратить внимание на файтинги и приключенческие игры.\n",
    "- в ходе исследования абсолютно доказано, что для Японии нужно выпускать отдельные игры. Или выпускать для всех стран, кроме Японии. Думаю в Японии в основном играют в локально разработанные игры. \n",
    "    \n"
   ]
  }
 ],
 "metadata": {
  "ExecuteTimeLog": [
   {
    "duration": 760,
    "start_time": "2022-03-04T18:24:14.192Z"
   },
   {
    "duration": 45,
    "start_time": "2022-03-04T18:26:37.533Z"
   },
   {
    "duration": 16,
    "start_time": "2022-03-04T18:26:44.380Z"
   },
   {
    "duration": 29,
    "start_time": "2022-03-04T18:26:54.129Z"
   },
   {
    "duration": 5,
    "start_time": "2022-03-04T18:27:06.012Z"
   },
   {
    "duration": 19,
    "start_time": "2022-03-04T18:27:23.490Z"
   },
   {
    "duration": 7,
    "start_time": "2022-03-04T18:27:40.367Z"
   },
   {
    "duration": 212,
    "start_time": "2022-03-06T14:30:11.243Z"
   },
   {
    "duration": 583,
    "start_time": "2022-03-06T14:30:16.709Z"
   },
   {
    "duration": 45,
    "start_time": "2022-03-06T14:30:17.294Z"
   },
   {
    "duration": 13,
    "start_time": "2022-03-06T14:30:17.341Z"
   },
   {
    "duration": 45,
    "start_time": "2022-03-06T14:30:17.356Z"
   },
   {
    "duration": 15,
    "start_time": "2022-03-06T14:30:17.402Z"
   },
   {
    "duration": 25,
    "start_time": "2022-03-06T14:30:17.419Z"
   },
   {
    "duration": 20,
    "start_time": "2022-03-06T14:30:17.446Z"
   },
   {
    "duration": 13,
    "start_time": "2022-03-06T14:30:17.469Z"
   },
   {
    "duration": 6,
    "start_time": "2022-03-06T14:30:32.783Z"
   },
   {
    "duration": 7,
    "start_time": "2022-03-06T14:31:18.799Z"
   },
   {
    "duration": 6,
    "start_time": "2022-03-06T14:32:36.742Z"
   },
   {
    "duration": 6,
    "start_time": "2022-03-06T14:33:27.128Z"
   },
   {
    "duration": 6,
    "start_time": "2022-03-06T14:33:35.926Z"
   },
   {
    "duration": 6,
    "start_time": "2022-03-06T14:41:08.740Z"
   },
   {
    "duration": 9,
    "start_time": "2022-03-06T14:41:21.858Z"
   },
   {
    "duration": 21,
    "start_time": "2022-03-06T14:41:35.936Z"
   },
   {
    "duration": 15,
    "start_time": "2022-03-06T14:41:58.871Z"
   },
   {
    "duration": 22,
    "start_time": "2022-03-06T14:48:42.981Z"
   },
   {
    "duration": 15,
    "start_time": "2022-03-06T14:51:10.751Z"
   },
   {
    "duration": 14,
    "start_time": "2022-03-06T14:53:54.733Z"
   },
   {
    "duration": 13,
    "start_time": "2022-03-06T14:54:15.654Z"
   },
   {
    "duration": 17,
    "start_time": "2022-03-06T14:55:25.594Z"
   },
   {
    "duration": 229,
    "start_time": "2022-03-06T15:02:49.649Z"
   },
   {
    "duration": 6,
    "start_time": "2022-03-06T16:33:13.467Z"
   },
   {
    "duration": 8,
    "start_time": "2022-03-06T16:33:34.304Z"
   },
   {
    "duration": 179,
    "start_time": "2022-03-06T16:40:03.589Z"
   },
   {
    "duration": 3,
    "start_time": "2022-03-06T16:41:42.770Z"
   },
   {
    "duration": 51,
    "start_time": "2022-03-06T16:41:42.775Z"
   },
   {
    "duration": 14,
    "start_time": "2022-03-06T16:41:42.828Z"
   },
   {
    "duration": 22,
    "start_time": "2022-03-06T16:41:42.845Z"
   },
   {
    "duration": 18,
    "start_time": "2022-03-06T16:41:42.868Z"
   },
   {
    "duration": 26,
    "start_time": "2022-03-06T16:41:42.888Z"
   },
   {
    "duration": 25,
    "start_time": "2022-03-06T16:41:42.915Z"
   },
   {
    "duration": 15,
    "start_time": "2022-03-06T16:41:42.942Z"
   },
   {
    "duration": 25,
    "start_time": "2022-03-06T16:41:42.960Z"
   },
   {
    "duration": 4,
    "start_time": "2022-03-06T16:41:42.987Z"
   },
   {
    "duration": 48,
    "start_time": "2022-03-06T16:41:42.993Z"
   },
   {
    "duration": 232,
    "start_time": "2022-03-06T16:41:43.043Z"
   },
   {
    "duration": 170,
    "start_time": "2022-03-06T16:41:50.550Z"
   },
   {
    "duration": 55,
    "start_time": "2022-03-06T16:42:28.279Z"
   },
   {
    "duration": 171,
    "start_time": "2022-03-06T16:42:32.139Z"
   },
   {
    "duration": 185,
    "start_time": "2022-03-06T16:42:41.502Z"
   },
   {
    "duration": 6,
    "start_time": "2022-03-06T16:43:20.020Z"
   },
   {
    "duration": 189,
    "start_time": "2022-03-06T16:43:51.086Z"
   },
   {
    "duration": 4,
    "start_time": "2022-03-06T16:44:12.978Z"
   },
   {
    "duration": 178,
    "start_time": "2022-03-06T16:44:18.718Z"
   },
   {
    "duration": 193,
    "start_time": "2022-03-06T16:44:27.141Z"
   },
   {
    "duration": 233,
    "start_time": "2022-03-06T16:44:28.852Z"
   },
   {
    "duration": 194,
    "start_time": "2022-03-06T16:46:08.337Z"
   },
   {
    "duration": 171,
    "start_time": "2022-03-06T16:46:52.727Z"
   },
   {
    "duration": 3,
    "start_time": "2022-03-06T16:47:17.158Z"
   },
   {
    "duration": 42,
    "start_time": "2022-03-06T16:47:17.163Z"
   },
   {
    "duration": 11,
    "start_time": "2022-03-06T16:47:17.207Z"
   },
   {
    "duration": 13,
    "start_time": "2022-03-06T16:47:17.221Z"
   },
   {
    "duration": 20,
    "start_time": "2022-03-06T16:47:17.236Z"
   },
   {
    "duration": 34,
    "start_time": "2022-03-06T16:47:17.258Z"
   },
   {
    "duration": 13,
    "start_time": "2022-03-06T16:47:17.295Z"
   },
   {
    "duration": 19,
    "start_time": "2022-03-06T16:47:17.310Z"
   },
   {
    "duration": 17,
    "start_time": "2022-03-06T16:47:17.332Z"
   },
   {
    "duration": 5,
    "start_time": "2022-03-06T16:47:17.352Z"
   },
   {
    "duration": 11,
    "start_time": "2022-03-06T16:47:17.359Z"
   },
   {
    "duration": 31,
    "start_time": "2022-03-06T16:47:17.372Z"
   },
   {
    "duration": 183,
    "start_time": "2022-03-06T16:47:26.999Z"
   },
   {
    "duration": 12,
    "start_time": "2022-03-06T16:47:58.542Z"
   },
   {
    "duration": 4325,
    "start_time": "2022-03-06T16:51:25.351Z"
   },
   {
    "duration": 7,
    "start_time": "2022-03-06T16:51:36.722Z"
   },
   {
    "duration": 11,
    "start_time": "2022-03-06T16:51:44.459Z"
   },
   {
    "duration": 164,
    "start_time": "2022-03-06T16:52:14.203Z"
   },
   {
    "duration": 4,
    "start_time": "2022-03-06T16:52:20.989Z"
   },
   {
    "duration": 186,
    "start_time": "2022-03-06T16:52:47.955Z"
   },
   {
    "duration": 4,
    "start_time": "2022-03-06T16:54:15.910Z"
   },
   {
    "duration": 14,
    "start_time": "2022-03-06T16:54:16.766Z"
   },
   {
    "duration": 224,
    "start_time": "2022-03-06T16:54:17.657Z"
   },
   {
    "duration": 6,
    "start_time": "2022-03-06T16:55:11.849Z"
   },
   {
    "duration": 11,
    "start_time": "2022-03-06T16:55:12.760Z"
   },
   {
    "duration": 191,
    "start_time": "2022-03-06T16:55:13.621Z"
   },
   {
    "duration": 63,
    "start_time": "2022-03-06T16:55:20.070Z"
   },
   {
    "duration": 6,
    "start_time": "2022-03-06T16:55:23.150Z"
   },
   {
    "duration": 5,
    "start_time": "2022-03-06T16:55:28.146Z"
   },
   {
    "duration": 10,
    "start_time": "2022-03-06T16:55:29.242Z"
   },
   {
    "duration": 5,
    "start_time": "2022-03-06T16:58:12.113Z"
   },
   {
    "duration": 550,
    "start_time": "2022-03-06T16:59:44.432Z"
   },
   {
    "duration": 42,
    "start_time": "2022-03-06T16:59:44.984Z"
   },
   {
    "duration": 14,
    "start_time": "2022-03-06T16:59:45.028Z"
   },
   {
    "duration": 31,
    "start_time": "2022-03-06T16:59:45.045Z"
   },
   {
    "duration": 5,
    "start_time": "2022-03-06T16:59:45.078Z"
   },
   {
    "duration": 28,
    "start_time": "2022-03-06T16:59:45.085Z"
   },
   {
    "duration": 6,
    "start_time": "2022-03-06T16:59:45.115Z"
   },
   {
    "duration": 21,
    "start_time": "2022-03-06T16:59:45.123Z"
   },
   {
    "duration": 18,
    "start_time": "2022-03-06T16:59:45.147Z"
   },
   {
    "duration": 4,
    "start_time": "2022-03-06T16:59:45.167Z"
   },
   {
    "duration": 33,
    "start_time": "2022-03-06T16:59:45.173Z"
   },
   {
    "duration": 10,
    "start_time": "2022-03-06T16:59:45.208Z"
   },
   {
    "duration": 23,
    "start_time": "2022-03-06T17:01:08.940Z"
   },
   {
    "duration": 8,
    "start_time": "2022-03-06T17:09:32.134Z"
   },
   {
    "duration": 16,
    "start_time": "2022-03-06T17:09:45.561Z"
   },
   {
    "duration": 8,
    "start_time": "2022-03-06T17:10:33.665Z"
   },
   {
    "duration": 9,
    "start_time": "2022-03-06T17:11:24.111Z"
   },
   {
    "duration": 297,
    "start_time": "2022-03-06T17:12:22.464Z"
   },
   {
    "duration": 8,
    "start_time": "2022-03-06T17:13:20.127Z"
   },
   {
    "duration": 10,
    "start_time": "2022-03-06T17:13:29.009Z"
   },
   {
    "duration": 8,
    "start_time": "2022-03-06T17:13:39.320Z"
   },
   {
    "duration": 332,
    "start_time": "2022-03-06T17:15:54.611Z"
   },
   {
    "duration": 7,
    "start_time": "2022-03-06T17:16:19.639Z"
   },
   {
    "duration": 200,
    "start_time": "2022-03-06T17:21:05.808Z"
   },
   {
    "duration": 13,
    "start_time": "2022-03-06T17:21:11.361Z"
   },
   {
    "duration": 15,
    "start_time": "2022-03-06T17:21:26.437Z"
   },
   {
    "duration": 180,
    "start_time": "2022-03-06T17:25:17.094Z"
   },
   {
    "duration": 4270,
    "start_time": "2022-03-06T17:25:35.157Z"
   },
   {
    "duration": 604,
    "start_time": "2022-03-06T17:25:58.370Z"
   },
   {
    "duration": 366,
    "start_time": "2022-03-06T17:27:02.815Z"
   },
   {
    "duration": 241,
    "start_time": "2022-03-06T17:27:35.207Z"
   },
   {
    "duration": 206,
    "start_time": "2022-03-06T17:28:54.498Z"
   },
   {
    "duration": 197,
    "start_time": "2022-03-06T17:29:03.629Z"
   },
   {
    "duration": 460,
    "start_time": "2022-03-06T17:29:50.375Z"
   },
   {
    "duration": 222,
    "start_time": "2022-03-06T17:29:59.802Z"
   },
   {
    "duration": 241,
    "start_time": "2022-03-06T17:35:14.075Z"
   },
   {
    "duration": 254,
    "start_time": "2022-03-06T17:35:59.036Z"
   },
   {
    "duration": 19,
    "start_time": "2022-03-06T17:38:21.211Z"
   },
   {
    "duration": 24,
    "start_time": "2022-03-06T17:38:39.868Z"
   },
   {
    "duration": 24,
    "start_time": "2022-03-06T17:39:38.611Z"
   },
   {
    "duration": 18,
    "start_time": "2022-03-06T17:39:45.014Z"
   },
   {
    "duration": 20,
    "start_time": "2022-03-06T17:40:02.602Z"
   },
   {
    "duration": 19,
    "start_time": "2022-03-06T17:40:18.349Z"
   },
   {
    "duration": 223,
    "start_time": "2022-03-06T17:48:48.254Z"
   },
   {
    "duration": 46,
    "start_time": "2022-03-06T17:49:21.449Z"
   },
   {
    "duration": 572,
    "start_time": "2022-03-08T09:32:24.305Z"
   },
   {
    "duration": 47,
    "start_time": "2022-03-08T09:32:24.879Z"
   },
   {
    "duration": 10,
    "start_time": "2022-03-08T09:32:24.928Z"
   },
   {
    "duration": 16,
    "start_time": "2022-03-08T09:32:24.940Z"
   },
   {
    "duration": 2,
    "start_time": "2022-03-08T09:32:24.958Z"
   },
   {
    "duration": 13,
    "start_time": "2022-03-08T09:32:24.962Z"
   },
   {
    "duration": 4,
    "start_time": "2022-03-08T09:32:24.977Z"
   },
   {
    "duration": 33,
    "start_time": "2022-03-08T09:32:24.983Z"
   },
   {
    "duration": 15,
    "start_time": "2022-03-08T09:32:25.018Z"
   },
   {
    "duration": 4,
    "start_time": "2022-03-08T09:32:25.035Z"
   },
   {
    "duration": 9,
    "start_time": "2022-03-08T09:32:25.040Z"
   },
   {
    "duration": 5,
    "start_time": "2022-03-08T09:32:25.051Z"
   },
   {
    "duration": 9,
    "start_time": "2022-03-08T09:32:25.058Z"
   },
   {
    "duration": 40,
    "start_time": "2022-03-08T09:32:25.069Z"
   },
   {
    "duration": 7,
    "start_time": "2022-03-08T09:32:25.111Z"
   },
   {
    "duration": 36,
    "start_time": "2022-03-08T09:32:25.120Z"
   },
   {
    "duration": 6,
    "start_time": "2022-03-08T09:32:51.731Z"
   },
   {
    "duration": 7,
    "start_time": "2022-03-08T09:33:08.498Z"
   },
   {
    "duration": 596,
    "start_time": "2022-03-08T09:35:38.303Z"
   },
   {
    "duration": 277,
    "start_time": "2022-03-08T09:37:08.582Z"
   },
   {
    "duration": 78,
    "start_time": "2022-03-08T09:38:11.323Z"
   },
   {
    "duration": 82,
    "start_time": "2022-03-08T09:38:25.365Z"
   },
   {
    "duration": 76,
    "start_time": "2022-03-08T09:38:32.031Z"
   },
   {
    "duration": 20,
    "start_time": "2022-03-08T09:38:46.041Z"
   },
   {
    "duration": 258,
    "start_time": "2022-03-08T09:38:53.943Z"
   },
   {
    "duration": 581,
    "start_time": "2022-03-08T09:39:03.217Z"
   },
   {
    "duration": 20,
    "start_time": "2022-03-08T09:41:41.734Z"
   },
   {
    "duration": 19,
    "start_time": "2022-03-08T09:41:57.482Z"
   },
   {
    "duration": 474,
    "start_time": "2022-03-08T09:41:58.962Z"
   },
   {
    "duration": 402,
    "start_time": "2022-03-08T09:42:30.901Z"
   },
   {
    "duration": 304,
    "start_time": "2022-03-08T09:43:03.983Z"
   },
   {
    "duration": 253,
    "start_time": "2022-03-08T09:43:42.072Z"
   },
   {
    "duration": 260,
    "start_time": "2022-03-08T09:47:36.686Z"
   },
   {
    "duration": 35,
    "start_time": "2022-03-08T09:51:39.666Z"
   },
   {
    "duration": 38,
    "start_time": "2022-03-08T09:52:11.522Z"
   },
   {
    "duration": 81,
    "start_time": "2022-03-08T09:53:07.011Z"
   },
   {
    "duration": 63,
    "start_time": "2022-03-08T09:53:31.696Z"
   },
   {
    "duration": 272,
    "start_time": "2022-03-08T09:54:02.212Z"
   },
   {
    "duration": 260,
    "start_time": "2022-03-08T09:54:11.467Z"
   },
   {
    "duration": 615,
    "start_time": "2022-03-08T09:54:33.004Z"
   },
   {
    "duration": 5434,
    "start_time": "2022-03-08T09:55:14.582Z"
   },
   {
    "duration": 242,
    "start_time": "2022-03-08T09:55:42.408Z"
   },
   {
    "duration": 253,
    "start_time": "2022-03-08T09:55:46.695Z"
   },
   {
    "duration": 618,
    "start_time": "2022-03-08T09:57:10.687Z"
   },
   {
    "duration": 62,
    "start_time": "2022-03-08T09:57:32.344Z"
   },
   {
    "duration": 1257,
    "start_time": "2022-03-08T09:59:05.923Z"
   },
   {
    "duration": 249,
    "start_time": "2022-03-08T09:59:16.960Z"
   },
   {
    "duration": 617,
    "start_time": "2022-03-08T09:59:32.456Z"
   },
   {
    "duration": 403,
    "start_time": "2022-03-08T10:02:31.574Z"
   },
   {
    "duration": 348,
    "start_time": "2022-03-08T10:02:40.580Z"
   },
   {
    "duration": 248,
    "start_time": "2022-03-08T10:03:41.497Z"
   },
   {
    "duration": 30,
    "start_time": "2022-03-08T10:04:00.146Z"
   },
   {
    "duration": 20,
    "start_time": "2022-03-08T10:13:53.441Z"
   },
   {
    "duration": 157,
    "start_time": "2022-03-08T10:14:46.481Z"
   },
   {
    "duration": 16,
    "start_time": "2022-03-08T10:15:26.663Z"
   },
   {
    "duration": 14,
    "start_time": "2022-03-08T10:18:06.535Z"
   },
   {
    "duration": 6,
    "start_time": "2022-03-08T10:19:01.032Z"
   },
   {
    "duration": 117,
    "start_time": "2022-03-08T10:20:55.698Z"
   },
   {
    "duration": 9,
    "start_time": "2022-03-08T10:21:06.508Z"
   },
   {
    "duration": 244,
    "start_time": "2022-03-08T10:21:29.411Z"
   },
   {
    "duration": 4,
    "start_time": "2022-03-08T10:21:43.044Z"
   },
   {
    "duration": 91,
    "start_time": "2022-03-08T10:22:02.842Z"
   },
   {
    "duration": 568,
    "start_time": "2022-03-08T10:22:11.674Z"
   },
   {
    "duration": 6184,
    "start_time": "2022-03-08T10:22:47.681Z"
   },
   {
    "duration": 6117,
    "start_time": "2022-03-08T10:22:59.862Z"
   },
   {
    "duration": -71,
    "start_time": "2022-03-08T10:23:06.052Z"
   },
   {
    "duration": 5961,
    "start_time": "2022-03-08T10:23:30.464Z"
   },
   {
    "duration": 95,
    "start_time": "2022-03-08T10:25:12.262Z"
   },
   {
    "duration": 4,
    "start_time": "2022-03-08T10:25:13.845Z"
   },
   {
    "duration": -23,
    "start_time": "2022-03-08T10:26:52.861Z"
   },
   {
    "duration": 5957,
    "start_time": "2022-03-08T10:26:59.596Z"
   },
   {
    "duration": 250,
    "start_time": "2022-03-08T10:27:18.861Z"
   },
   {
    "duration": 10,
    "start_time": "2022-03-08T10:27:30.167Z"
   },
   {
    "duration": 73,
    "start_time": "2022-03-08T10:27:38.648Z"
   },
   {
    "duration": 5,
    "start_time": "2022-03-08T10:27:39.807Z"
   },
   {
    "duration": 6071,
    "start_time": "2022-03-08T10:28:05.664Z"
   },
   {
    "duration": 6482,
    "start_time": "2022-03-08T10:28:11.931Z"
   },
   {
    "duration": 11,
    "start_time": "2022-03-08T10:28:24.706Z"
   },
   {
    "duration": 251,
    "start_time": "2022-03-08T10:28:29.258Z"
   },
   {
    "duration": 10,
    "start_time": "2022-03-08T10:28:45.025Z"
   },
   {
    "duration": 9,
    "start_time": "2022-03-08T10:29:01.000Z"
   },
   {
    "duration": 6,
    "start_time": "2022-03-08T10:29:02.923Z"
   },
   {
    "duration": 10,
    "start_time": "2022-03-08T10:29:03.181Z"
   },
   {
    "duration": 9,
    "start_time": "2022-03-08T10:29:04.005Z"
   },
   {
    "duration": 10,
    "start_time": "2022-03-08T10:30:02.197Z"
   },
   {
    "duration": 29,
    "start_time": "2022-03-08T10:30:03.482Z"
   },
   {
    "duration": 9,
    "start_time": "2022-03-08T10:30:26.615Z"
   },
   {
    "duration": 4,
    "start_time": "2022-03-08T10:30:27.690Z"
   },
   {
    "duration": 12,
    "start_time": "2022-03-08T10:30:52.615Z"
   },
   {
    "duration": 16,
    "start_time": "2022-03-08T10:31:01.204Z"
   },
   {
    "duration": 81,
    "start_time": "2022-03-08T10:31:12.829Z"
   },
   {
    "duration": 16,
    "start_time": "2022-03-08T10:31:19.953Z"
   },
   {
    "duration": 14,
    "start_time": "2022-03-08T10:31:37.306Z"
   },
   {
    "duration": 14,
    "start_time": "2022-03-08T10:31:43.611Z"
   },
   {
    "duration": 8,
    "start_time": "2022-03-08T10:31:56.445Z"
   },
   {
    "duration": 24,
    "start_time": "2022-03-08T10:31:58.227Z"
   },
   {
    "duration": 272,
    "start_time": "2022-03-08T10:33:06.071Z"
   },
   {
    "duration": 288,
    "start_time": "2022-03-08T10:33:53.844Z"
   },
   {
    "duration": 7,
    "start_time": "2022-03-08T10:34:02.462Z"
   },
   {
    "duration": 4,
    "start_time": "2022-03-08T10:34:03.247Z"
   },
   {
    "duration": 8,
    "start_time": "2022-03-08T10:34:23.039Z"
   },
   {
    "duration": 25,
    "start_time": "2022-03-08T10:34:23.657Z"
   },
   {
    "duration": 9,
    "start_time": "2022-03-08T10:36:57.348Z"
   },
   {
    "duration": 298,
    "start_time": "2022-03-08T10:36:58.812Z"
   },
   {
    "duration": 3,
    "start_time": "2022-03-08T10:37:15.168Z"
   },
   {
    "duration": 273,
    "start_time": "2022-03-08T10:38:14.422Z"
   },
   {
    "duration": 511,
    "start_time": "2022-03-08T10:38:49.749Z"
   },
   {
    "duration": 281,
    "start_time": "2022-03-08T10:39:01.363Z"
   },
   {
    "duration": 88,
    "start_time": "2022-03-08T10:39:07.256Z"
   },
   {
    "duration": 2,
    "start_time": "2022-03-08T10:39:16.100Z"
   },
   {
    "duration": 844,
    "start_time": "2022-03-08T10:40:17.268Z"
   },
   {
    "duration": 582,
    "start_time": "2022-03-08T10:40:59.326Z"
   },
   {
    "duration": 46,
    "start_time": "2022-03-08T10:40:59.910Z"
   },
   {
    "duration": 10,
    "start_time": "2022-03-08T10:40:59.957Z"
   },
   {
    "duration": 13,
    "start_time": "2022-03-08T10:40:59.968Z"
   },
   {
    "duration": 2,
    "start_time": "2022-03-08T10:40:59.983Z"
   },
   {
    "duration": 13,
    "start_time": "2022-03-08T10:40:59.987Z"
   },
   {
    "duration": 5,
    "start_time": "2022-03-08T10:41:00.001Z"
   },
   {
    "duration": 17,
    "start_time": "2022-03-08T10:41:00.007Z"
   },
   {
    "duration": 16,
    "start_time": "2022-03-08T10:41:00.026Z"
   },
   {
    "duration": 3,
    "start_time": "2022-03-08T10:41:00.044Z"
   },
   {
    "duration": 11,
    "start_time": "2022-03-08T10:41:00.049Z"
   },
   {
    "duration": 5,
    "start_time": "2022-03-08T10:41:00.061Z"
   },
   {
    "duration": 6,
    "start_time": "2022-03-08T10:41:00.068Z"
   },
   {
    "duration": 12,
    "start_time": "2022-03-08T10:41:00.076Z"
   },
   {
    "duration": 29,
    "start_time": "2022-03-08T10:41:00.089Z"
   },
   {
    "duration": 16,
    "start_time": "2022-03-08T10:41:00.119Z"
   },
   {
    "duration": 2,
    "start_time": "2022-03-08T10:41:00.136Z"
   },
   {
    "duration": 10,
    "start_time": "2022-03-08T10:41:00.140Z"
   },
   {
    "duration": 275,
    "start_time": "2022-03-08T10:41:00.151Z"
   },
   {
    "duration": 2,
    "start_time": "2022-03-08T10:41:00.428Z"
   },
   {
    "duration": 276,
    "start_time": "2022-03-08T10:41:55.842Z"
   },
   {
    "duration": 21,
    "start_time": "2022-03-08T10:52:07.131Z"
   },
   {
    "duration": 85,
    "start_time": "2022-03-08T10:53:49.932Z"
   },
   {
    "duration": 21,
    "start_time": "2022-03-08T10:53:53.738Z"
   },
   {
    "duration": 5,
    "start_time": "2022-03-08T10:54:28.654Z"
   },
   {
    "duration": 6,
    "start_time": "2022-03-08T10:55:42.105Z"
   },
   {
    "duration": 270,
    "start_time": "2022-03-08T11:10:20.171Z"
   },
   {
    "duration": 270,
    "start_time": "2022-03-08T11:13:48.014Z"
   },
   {
    "duration": 264,
    "start_time": "2022-03-08T11:18:14.159Z"
   },
   {
    "duration": 262,
    "start_time": "2022-03-08T11:19:37.805Z"
   },
   {
    "duration": 339,
    "start_time": "2022-03-08T11:23:41.894Z"
   },
   {
    "duration": 261,
    "start_time": "2022-03-08T11:23:50.041Z"
   },
   {
    "duration": 245,
    "start_time": "2022-03-08T11:23:56.672Z"
   },
   {
    "duration": 260,
    "start_time": "2022-03-08T11:24:08.412Z"
   },
   {
    "duration": 8,
    "start_time": "2022-03-08T11:24:18.565Z"
   },
   {
    "duration": 5,
    "start_time": "2022-03-08T11:24:44.588Z"
   },
   {
    "duration": 279,
    "start_time": "2022-03-08T11:26:44.981Z"
   },
   {
    "duration": 262,
    "start_time": "2022-03-08T11:29:57.944Z"
   },
   {
    "duration": 264,
    "start_time": "2022-03-08T11:30:15.804Z"
   },
   {
    "duration": 278,
    "start_time": "2022-03-08T11:33:00.785Z"
   },
   {
    "duration": 569,
    "start_time": "2022-03-08T11:33:19.936Z"
   },
   {
    "duration": 35,
    "start_time": "2022-03-08T11:33:20.507Z"
   },
   {
    "duration": 8,
    "start_time": "2022-03-08T11:33:20.544Z"
   },
   {
    "duration": 13,
    "start_time": "2022-03-08T11:33:20.554Z"
   },
   {
    "duration": 6,
    "start_time": "2022-03-08T11:33:20.568Z"
   },
   {
    "duration": 14,
    "start_time": "2022-03-08T11:33:20.575Z"
   },
   {
    "duration": 5,
    "start_time": "2022-03-08T11:33:20.591Z"
   },
   {
    "duration": 18,
    "start_time": "2022-03-08T11:33:20.597Z"
   },
   {
    "duration": 13,
    "start_time": "2022-03-08T11:33:20.617Z"
   },
   {
    "duration": 3,
    "start_time": "2022-03-08T11:33:20.632Z"
   },
   {
    "duration": 10,
    "start_time": "2022-03-08T11:33:20.636Z"
   },
   {
    "duration": 4,
    "start_time": "2022-03-08T11:33:20.647Z"
   },
   {
    "duration": 6,
    "start_time": "2022-03-08T11:33:20.652Z"
   },
   {
    "duration": 12,
    "start_time": "2022-03-08T11:33:20.659Z"
   },
   {
    "duration": 6,
    "start_time": "2022-03-08T11:33:20.672Z"
   },
   {
    "duration": 33,
    "start_time": "2022-03-08T11:33:20.680Z"
   },
   {
    "duration": 2,
    "start_time": "2022-03-08T11:33:20.715Z"
   },
   {
    "duration": 292,
    "start_time": "2022-03-08T11:33:20.718Z"
   },
   {
    "duration": 5,
    "start_time": "2022-03-08T11:33:21.012Z"
   },
   {
    "duration": 5,
    "start_time": "2022-03-08T11:33:21.019Z"
   },
   {
    "duration": 295,
    "start_time": "2022-03-08T11:33:21.025Z"
   },
   {
    "duration": 16,
    "start_time": "2022-03-08T11:33:21.306Z"
   },
   {
    "duration": 14,
    "start_time": "2022-03-08T11:33:21.308Z"
   },
   {
    "duration": 5,
    "start_time": "2022-03-08T11:36:54.169Z"
   },
   {
    "duration": 281,
    "start_time": "2022-03-08T11:36:54.842Z"
   },
   {
    "duration": 292,
    "start_time": "2022-03-08T11:37:25.128Z"
   },
   {
    "duration": 274,
    "start_time": "2022-03-08T11:39:00.837Z"
   },
   {
    "duration": 4,
    "start_time": "2022-03-08T11:40:33.950Z"
   },
   {
    "duration": 4,
    "start_time": "2022-03-08T11:40:42.942Z"
   },
   {
    "duration": 600,
    "start_time": "2022-03-08T11:40:54.519Z"
   },
   {
    "duration": 48,
    "start_time": "2022-03-08T11:40:55.120Z"
   },
   {
    "duration": 9,
    "start_time": "2022-03-08T11:40:55.170Z"
   },
   {
    "duration": 13,
    "start_time": "2022-03-08T11:40:55.181Z"
   },
   {
    "duration": 3,
    "start_time": "2022-03-08T11:40:55.195Z"
   },
   {
    "duration": 13,
    "start_time": "2022-03-08T11:40:55.199Z"
   },
   {
    "duration": 5,
    "start_time": "2022-03-08T11:40:55.214Z"
   },
   {
    "duration": 19,
    "start_time": "2022-03-08T11:40:55.221Z"
   },
   {
    "duration": 20,
    "start_time": "2022-03-08T11:40:55.241Z"
   },
   {
    "duration": 7,
    "start_time": "2022-03-08T11:40:55.262Z"
   },
   {
    "duration": 25,
    "start_time": "2022-03-08T11:40:55.270Z"
   },
   {
    "duration": 12,
    "start_time": "2022-03-08T11:40:55.296Z"
   },
   {
    "duration": 16,
    "start_time": "2022-03-08T11:40:55.309Z"
   },
   {
    "duration": 25,
    "start_time": "2022-03-08T11:40:55.326Z"
   },
   {
    "duration": 25,
    "start_time": "2022-03-08T11:40:55.353Z"
   },
   {
    "duration": 22,
    "start_time": "2022-03-08T11:40:55.379Z"
   },
   {
    "duration": 5,
    "start_time": "2022-03-08T11:40:55.402Z"
   },
   {
    "duration": 15,
    "start_time": "2022-03-08T11:40:55.409Z"
   },
   {
    "duration": 281,
    "start_time": "2022-03-08T11:40:55.425Z"
   },
   {
    "duration": 3,
    "start_time": "2022-03-08T11:40:55.707Z"
   },
   {
    "duration": 8,
    "start_time": "2022-03-08T11:40:55.711Z"
   },
   {
    "duration": 5,
    "start_time": "2022-03-08T11:40:55.720Z"
   },
   {
    "duration": 272,
    "start_time": "2022-03-08T11:40:55.727Z"
   },
   {
    "duration": 280,
    "start_time": "2022-03-08T11:40:56.000Z"
   },
   {
    "duration": 4,
    "start_time": "2022-03-08T11:40:56.281Z"
   },
   {
    "duration": 309,
    "start_time": "2022-03-08T11:42:28.442Z"
   },
   {
    "duration": 12,
    "start_time": "2022-03-08T11:42:44.689Z"
   },
   {
    "duration": 1065,
    "start_time": "2022-03-08T12:09:22.321Z"
   },
   {
    "duration": 41,
    "start_time": "2022-03-08T12:09:23.387Z"
   },
   {
    "duration": 8,
    "start_time": "2022-03-08T12:09:23.430Z"
   },
   {
    "duration": 12,
    "start_time": "2022-03-08T12:09:23.440Z"
   },
   {
    "duration": 4,
    "start_time": "2022-03-08T12:09:23.453Z"
   },
   {
    "duration": 13,
    "start_time": "2022-03-08T12:09:23.458Z"
   },
   {
    "duration": 4,
    "start_time": "2022-03-08T12:09:23.473Z"
   },
   {
    "duration": 38,
    "start_time": "2022-03-08T12:09:23.479Z"
   },
   {
    "duration": 18,
    "start_time": "2022-03-08T12:09:23.520Z"
   },
   {
    "duration": 3,
    "start_time": "2022-03-08T12:09:23.540Z"
   },
   {
    "duration": 6,
    "start_time": "2022-03-08T12:09:23.545Z"
   },
   {
    "duration": 4,
    "start_time": "2022-03-08T12:09:23.552Z"
   },
   {
    "duration": 8,
    "start_time": "2022-03-08T12:09:23.557Z"
   },
   {
    "duration": 39,
    "start_time": "2022-03-08T12:09:23.566Z"
   },
   {
    "duration": 7,
    "start_time": "2022-03-08T12:09:23.607Z"
   },
   {
    "duration": 18,
    "start_time": "2022-03-08T12:09:23.616Z"
   },
   {
    "duration": 3,
    "start_time": "2022-03-08T12:09:23.636Z"
   },
   {
    "duration": 7,
    "start_time": "2022-03-08T12:09:23.640Z"
   },
   {
    "duration": 323,
    "start_time": "2022-03-08T12:09:23.648Z"
   },
   {
    "duration": 3,
    "start_time": "2022-03-08T12:09:23.972Z"
   },
   {
    "duration": 7,
    "start_time": "2022-03-08T12:09:23.976Z"
   },
   {
    "duration": 4,
    "start_time": "2022-03-08T12:09:23.984Z"
   },
   {
    "duration": 284,
    "start_time": "2022-03-08T12:09:23.991Z"
   },
   {
    "duration": 304,
    "start_time": "2022-03-08T12:09:24.276Z"
   },
   {
    "duration": 26,
    "start_time": "2022-03-08T12:09:24.581Z"
   },
   {
    "duration": 82,
    "start_time": "2022-03-08T12:09:47.094Z"
   },
   {
    "duration": 276,
    "start_time": "2022-03-08T12:10:16.252Z"
   },
   {
    "duration": 324,
    "start_time": "2022-03-08T12:10:29.441Z"
   },
   {
    "duration": 380,
    "start_time": "2022-03-08T12:58:01.817Z"
   },
   {
    "duration": 8,
    "start_time": "2022-03-08T12:58:14.425Z"
   },
   {
    "duration": 8,
    "start_time": "2022-03-08T12:58:23.283Z"
   },
   {
    "duration": 9,
    "start_time": "2022-03-08T12:58:33.417Z"
   },
   {
    "duration": 413,
    "start_time": "2022-03-08T12:59:31.772Z"
   },
   {
    "duration": 420,
    "start_time": "2022-03-08T12:59:37.546Z"
   },
   {
    "duration": 290,
    "start_time": "2022-03-08T13:00:59.967Z"
   },
   {
    "duration": 14,
    "start_time": "2022-03-08T13:04:12.908Z"
   },
   {
    "duration": 9,
    "start_time": "2022-03-08T13:04:44.671Z"
   },
   {
    "duration": 287,
    "start_time": "2022-03-08T13:05:30.973Z"
   },
   {
    "duration": 289,
    "start_time": "2022-03-08T13:05:42.724Z"
   },
   {
    "duration": 10,
    "start_time": "2022-03-08T13:06:24.446Z"
   },
   {
    "duration": 238,
    "start_time": "2022-03-08T13:07:30.426Z"
   },
   {
    "duration": 5,
    "start_time": "2022-03-08T13:07:42.343Z"
   },
   {
    "duration": 1606,
    "start_time": "2022-03-08T13:07:52.317Z"
   },
   {
    "duration": 46,
    "start_time": "2022-03-08T13:07:53.926Z"
   },
   {
    "duration": 12,
    "start_time": "2022-03-08T13:07:53.975Z"
   },
   {
    "duration": 22,
    "start_time": "2022-03-08T13:07:53.989Z"
   },
   {
    "duration": 3,
    "start_time": "2022-03-08T13:07:54.013Z"
   },
   {
    "duration": 18,
    "start_time": "2022-03-08T13:07:54.017Z"
   },
   {
    "duration": 4,
    "start_time": "2022-03-08T13:07:54.037Z"
   },
   {
    "duration": 15,
    "start_time": "2022-03-08T13:07:54.043Z"
   },
   {
    "duration": 18,
    "start_time": "2022-03-08T13:07:54.061Z"
   },
   {
    "duration": 27,
    "start_time": "2022-03-08T13:07:54.080Z"
   },
   {
    "duration": 9,
    "start_time": "2022-03-08T13:07:54.108Z"
   },
   {
    "duration": 7,
    "start_time": "2022-03-08T13:07:54.118Z"
   },
   {
    "duration": 6,
    "start_time": "2022-03-08T13:07:54.127Z"
   },
   {
    "duration": 7,
    "start_time": "2022-03-08T13:07:54.134Z"
   },
   {
    "duration": 15,
    "start_time": "2022-03-08T13:07:54.142Z"
   },
   {
    "duration": 7,
    "start_time": "2022-03-08T13:07:54.158Z"
   },
   {
    "duration": 11,
    "start_time": "2022-03-08T13:07:54.167Z"
   },
   {
    "duration": 2,
    "start_time": "2022-03-08T13:07:54.179Z"
   },
   {
    "duration": 4,
    "start_time": "2022-03-08T13:07:54.183Z"
   },
   {
    "duration": 289,
    "start_time": "2022-03-08T13:07:54.206Z"
   },
   {
    "duration": 8,
    "start_time": "2022-03-08T13:07:54.497Z"
   },
   {
    "duration": 4,
    "start_time": "2022-03-08T13:07:54.507Z"
   },
   {
    "duration": 3,
    "start_time": "2022-03-08T13:07:54.513Z"
   },
   {
    "duration": 278,
    "start_time": "2022-03-08T13:07:54.517Z"
   },
   {
    "duration": 425,
    "start_time": "2022-03-08T13:07:54.797Z"
   },
   {
    "duration": 16,
    "start_time": "2022-03-08T13:07:55.224Z"
   },
   {
    "duration": 402,
    "start_time": "2022-03-08T13:07:55.243Z"
   },
   {
    "duration": 13,
    "start_time": "2022-03-08T13:07:55.646Z"
   },
   {
    "duration": 458,
    "start_time": "2022-03-08T13:09:06.051Z"
   },
   {
    "duration": 11,
    "start_time": "2022-03-08T13:09:45.384Z"
   },
   {
    "duration": 260,
    "start_time": "2022-03-08T13:10:09.966Z"
   },
   {
    "duration": 252,
    "start_time": "2022-03-08T13:10:40.038Z"
   },
   {
    "duration": 292,
    "start_time": "2022-03-08T13:10:51.092Z"
   },
   {
    "duration": 236,
    "start_time": "2022-03-08T13:11:46.044Z"
   },
   {
    "duration": 435,
    "start_time": "2022-03-08T13:12:52.417Z"
   },
   {
    "duration": 427,
    "start_time": "2022-03-08T13:13:08.455Z"
   },
   {
    "duration": 420,
    "start_time": "2022-03-08T13:13:25.450Z"
   },
   {
    "duration": 258,
    "start_time": "2022-03-08T13:14:26.436Z"
   },
   {
    "duration": 432,
    "start_time": "2022-03-08T13:14:37.617Z"
   },
   {
    "duration": 455,
    "start_time": "2022-03-08T13:15:23.450Z"
   },
   {
    "duration": 436,
    "start_time": "2022-03-08T13:15:45.523Z"
   },
   {
    "duration": 1151,
    "start_time": "2022-03-08T13:16:05.429Z"
   },
   {
    "duration": 40,
    "start_time": "2022-03-08T13:16:06.582Z"
   },
   {
    "duration": 8,
    "start_time": "2022-03-08T13:16:06.625Z"
   },
   {
    "duration": 15,
    "start_time": "2022-03-08T13:16:06.635Z"
   },
   {
    "duration": 2,
    "start_time": "2022-03-08T13:16:06.652Z"
   },
   {
    "duration": 17,
    "start_time": "2022-03-08T13:16:06.655Z"
   },
   {
    "duration": 6,
    "start_time": "2022-03-08T13:16:06.673Z"
   },
   {
    "duration": 25,
    "start_time": "2022-03-08T13:16:06.681Z"
   },
   {
    "duration": 20,
    "start_time": "2022-03-08T13:16:06.709Z"
   },
   {
    "duration": 3,
    "start_time": "2022-03-08T13:16:06.731Z"
   },
   {
    "duration": 10,
    "start_time": "2022-03-08T13:16:06.735Z"
   },
   {
    "duration": 7,
    "start_time": "2022-03-08T13:16:06.746Z"
   },
   {
    "duration": 12,
    "start_time": "2022-03-08T13:16:06.754Z"
   },
   {
    "duration": 10,
    "start_time": "2022-03-08T13:16:06.767Z"
   },
   {
    "duration": 12,
    "start_time": "2022-03-08T13:16:06.779Z"
   },
   {
    "duration": 17,
    "start_time": "2022-03-08T13:16:06.792Z"
   },
   {
    "duration": 27,
    "start_time": "2022-03-08T13:16:06.811Z"
   },
   {
    "duration": 3,
    "start_time": "2022-03-08T13:16:06.839Z"
   },
   {
    "duration": 6,
    "start_time": "2022-03-08T13:16:06.843Z"
   },
   {
    "duration": 299,
    "start_time": "2022-03-08T13:16:06.851Z"
   },
   {
    "duration": 2,
    "start_time": "2022-03-08T13:16:07.151Z"
   },
   {
    "duration": 6,
    "start_time": "2022-03-08T13:16:07.155Z"
   },
   {
    "duration": 3,
    "start_time": "2022-03-08T13:16:07.164Z"
   },
   {
    "duration": 294,
    "start_time": "2022-03-08T13:16:07.168Z"
   },
   {
    "duration": 300,
    "start_time": "2022-03-08T13:16:07.463Z"
   },
   {
    "duration": 11,
    "start_time": "2022-03-08T13:16:07.765Z"
   },
   {
    "duration": 275,
    "start_time": "2022-03-08T13:16:07.777Z"
   },
   {
    "duration": 9,
    "start_time": "2022-03-08T13:16:08.054Z"
   },
   {
    "duration": 489,
    "start_time": "2022-03-08T13:16:08.064Z"
   },
   {
    "duration": 325,
    "start_time": "2022-03-08T13:16:40.366Z"
   },
   {
    "duration": 303,
    "start_time": "2022-03-08T13:16:43.579Z"
   },
   {
    "duration": 407,
    "start_time": "2022-03-08T13:22:31.649Z"
   },
   {
    "duration": 421,
    "start_time": "2022-03-08T13:23:13.966Z"
   },
   {
    "duration": 10,
    "start_time": "2022-03-08T13:23:40.127Z"
   },
   {
    "duration": 448,
    "start_time": "2022-03-08T13:23:42.063Z"
   },
   {
    "duration": 10,
    "start_time": "2022-03-08T13:24:25.294Z"
   },
   {
    "duration": 400,
    "start_time": "2022-03-08T13:24:50.621Z"
   },
   {
    "duration": 357,
    "start_time": "2022-03-08T13:45:24.814Z"
   },
   {
    "duration": 2,
    "start_time": "2022-03-08T13:46:29.300Z"
   },
   {
    "duration": 48,
    "start_time": "2022-03-08T13:46:29.304Z"
   },
   {
    "duration": 8,
    "start_time": "2022-03-08T13:46:29.354Z"
   },
   {
    "duration": 11,
    "start_time": "2022-03-08T13:46:29.364Z"
   },
   {
    "duration": 8,
    "start_time": "2022-03-08T13:46:29.376Z"
   },
   {
    "duration": 17,
    "start_time": "2022-03-08T13:46:29.385Z"
   },
   {
    "duration": 8,
    "start_time": "2022-03-08T13:46:29.403Z"
   },
   {
    "duration": 12,
    "start_time": "2022-03-08T13:46:29.412Z"
   },
   {
    "duration": 13,
    "start_time": "2022-03-08T13:46:29.427Z"
   },
   {
    "duration": 3,
    "start_time": "2022-03-08T13:46:29.442Z"
   },
   {
    "duration": 8,
    "start_time": "2022-03-08T13:46:29.446Z"
   },
   {
    "duration": 5,
    "start_time": "2022-03-08T13:46:29.455Z"
   },
   {
    "duration": 6,
    "start_time": "2022-03-08T13:46:29.461Z"
   },
   {
    "duration": 6,
    "start_time": "2022-03-08T13:46:29.468Z"
   },
   {
    "duration": 15,
    "start_time": "2022-03-08T13:46:29.475Z"
   },
   {
    "duration": 18,
    "start_time": "2022-03-08T13:46:29.492Z"
   },
   {
    "duration": 11,
    "start_time": "2022-03-08T13:46:29.512Z"
   },
   {
    "duration": 3,
    "start_time": "2022-03-08T13:46:29.524Z"
   },
   {
    "duration": 5,
    "start_time": "2022-03-08T13:46:29.529Z"
   },
   {
    "duration": 298,
    "start_time": "2022-03-08T13:46:29.535Z"
   },
   {
    "duration": 2,
    "start_time": "2022-03-08T13:46:29.835Z"
   },
   {
    "duration": 11,
    "start_time": "2022-03-08T13:46:29.838Z"
   },
   {
    "duration": 8,
    "start_time": "2022-03-08T13:46:29.850Z"
   },
   {
    "duration": 328,
    "start_time": "2022-03-08T13:46:29.860Z"
   },
   {
    "duration": 284,
    "start_time": "2022-03-08T13:46:30.190Z"
   },
   {
    "duration": 11,
    "start_time": "2022-03-08T13:46:30.475Z"
   },
   {
    "duration": 213,
    "start_time": "2022-03-08T13:46:30.489Z"
   },
   {
    "duration": 11,
    "start_time": "2022-03-08T13:46:30.704Z"
   },
   {
    "duration": 479,
    "start_time": "2022-03-08T13:46:30.717Z"
   },
   {
    "duration": 15,
    "start_time": "2022-03-08T13:46:31.198Z"
   },
   {
    "duration": 508,
    "start_time": "2022-03-08T13:46:31.214Z"
   },
   {
    "duration": 10,
    "start_time": "2022-03-08T13:46:31.724Z"
   },
   {
    "duration": 481,
    "start_time": "2022-03-08T13:46:31.736Z"
   },
   {
    "duration": 18,
    "start_time": "2022-03-08T13:46:32.218Z"
   },
   {
    "duration": 249,
    "start_time": "2022-03-08T13:46:41.226Z"
   },
   {
    "duration": 8,
    "start_time": "2022-03-08T13:49:03.204Z"
   },
   {
    "duration": 6,
    "start_time": "2022-03-08T13:49:18.156Z"
   },
   {
    "duration": 249,
    "start_time": "2022-03-08T13:51:37.730Z"
   },
   {
    "duration": 9,
    "start_time": "2022-03-08T13:51:53.055Z"
   },
   {
    "duration": 6,
    "start_time": "2022-03-08T13:51:55.552Z"
   },
   {
    "duration": 9,
    "start_time": "2022-03-08T13:54:34.924Z"
   },
   {
    "duration": 6,
    "start_time": "2022-03-08T13:54:35.591Z"
   },
   {
    "duration": 9,
    "start_time": "2022-03-08T13:54:56.068Z"
   },
   {
    "duration": 7,
    "start_time": "2022-03-08T13:54:56.515Z"
   },
   {
    "duration": 196,
    "start_time": "2022-03-08T13:59:43.079Z"
   },
   {
    "duration": 165,
    "start_time": "2022-03-08T13:59:56.152Z"
   },
   {
    "duration": 9,
    "start_time": "2022-03-08T14:00:09.002Z"
   },
   {
    "duration": 154,
    "start_time": "2022-03-08T14:00:34.458Z"
   },
   {
    "duration": 6183,
    "start_time": "2022-03-08T14:01:03.829Z"
   },
   {
    "duration": 6073,
    "start_time": "2022-03-08T14:01:44.804Z"
   },
   {
    "duration": 9,
    "start_time": "2022-03-08T14:02:12.474Z"
   },
   {
    "duration": 5943,
    "start_time": "2022-03-08T14:02:13.176Z"
   },
   {
    "duration": 5993,
    "start_time": "2022-03-08T14:02:35.435Z"
   },
   {
    "duration": 5991,
    "start_time": "2022-03-08T14:02:49.852Z"
   },
   {
    "duration": 161,
    "start_time": "2022-03-08T14:03:44.826Z"
   },
   {
    "duration": 9,
    "start_time": "2022-03-08T14:07:42.998Z"
   },
   {
    "duration": 166,
    "start_time": "2022-03-08T14:07:43.573Z"
   },
   {
    "duration": 8,
    "start_time": "2022-03-08T14:07:47.644Z"
   },
   {
    "duration": 165,
    "start_time": "2022-03-08T14:07:58.815Z"
   },
   {
    "duration": 8,
    "start_time": "2022-03-08T14:08:02.856Z"
   },
   {
    "duration": 179,
    "start_time": "2022-03-08T14:08:11.279Z"
   },
   {
    "duration": 10,
    "start_time": "2022-03-08T14:12:23.960Z"
   },
   {
    "duration": 168,
    "start_time": "2022-03-08T14:12:25.484Z"
   },
   {
    "duration": 270,
    "start_time": "2022-03-08T14:53:28.128Z"
   },
   {
    "duration": 186,
    "start_time": "2022-03-08T14:56:04.459Z"
   },
   {
    "duration": 275,
    "start_time": "2022-03-08T14:56:43.371Z"
   },
   {
    "duration": 253,
    "start_time": "2022-03-08T14:57:13.054Z"
   },
   {
    "duration": 280,
    "start_time": "2022-03-08T14:58:25.034Z"
   },
   {
    "duration": 163,
    "start_time": "2022-03-08T14:58:27.497Z"
   },
   {
    "duration": 324,
    "start_time": "2022-03-08T14:58:30.050Z"
   },
   {
    "duration": 175,
    "start_time": "2022-03-08T14:58:32.633Z"
   },
   {
    "duration": 266,
    "start_time": "2022-03-08T14:58:43.508Z"
   },
   {
    "duration": 172,
    "start_time": "2022-03-08T14:59:15.252Z"
   },
   {
    "duration": 267,
    "start_time": "2022-03-08T14:59:43.463Z"
   },
   {
    "duration": 187,
    "start_time": "2022-03-08T15:00:04.316Z"
   },
   {
    "duration": 254,
    "start_time": "2022-03-08T15:08:26.373Z"
   },
   {
    "duration": 254,
    "start_time": "2022-03-08T15:08:32.514Z"
   },
   {
    "duration": 17,
    "start_time": "2022-03-08T15:08:40.293Z"
   },
   {
    "duration": 18,
    "start_time": "2022-03-08T15:08:48.413Z"
   },
   {
    "duration": 22,
    "start_time": "2022-03-08T15:11:47.861Z"
   },
   {
    "duration": 503,
    "start_time": "2022-03-08T15:13:42.409Z"
   },
   {
    "duration": 14,
    "start_time": "2022-03-08T15:21:37.660Z"
   },
   {
    "duration": 188,
    "start_time": "2022-03-08T15:22:13.916Z"
   },
   {
    "duration": 187,
    "start_time": "2022-03-08T15:23:00.495Z"
   },
   {
    "duration": 278,
    "start_time": "2022-03-08T16:01:11.622Z"
   },
   {
    "duration": 3,
    "start_time": "2022-03-08T16:02:05.771Z"
   },
   {
    "duration": 40,
    "start_time": "2022-03-08T16:02:05.777Z"
   },
   {
    "duration": 9,
    "start_time": "2022-03-08T16:02:05.819Z"
   },
   {
    "duration": 11,
    "start_time": "2022-03-08T16:02:05.830Z"
   },
   {
    "duration": 5,
    "start_time": "2022-03-08T16:02:05.842Z"
   },
   {
    "duration": 15,
    "start_time": "2022-03-08T16:02:05.848Z"
   },
   {
    "duration": 5,
    "start_time": "2022-03-08T16:02:05.864Z"
   },
   {
    "duration": 43,
    "start_time": "2022-03-08T16:02:05.871Z"
   },
   {
    "duration": 14,
    "start_time": "2022-03-08T16:02:05.916Z"
   },
   {
    "duration": 3,
    "start_time": "2022-03-08T16:02:05.932Z"
   },
   {
    "duration": 13,
    "start_time": "2022-03-08T16:02:05.937Z"
   },
   {
    "duration": 8,
    "start_time": "2022-03-08T16:02:05.951Z"
   },
   {
    "duration": 7,
    "start_time": "2022-03-08T16:02:05.960Z"
   },
   {
    "duration": 8,
    "start_time": "2022-03-08T16:02:05.968Z"
   },
   {
    "duration": 32,
    "start_time": "2022-03-08T16:02:05.978Z"
   },
   {
    "duration": 7,
    "start_time": "2022-03-08T16:02:06.012Z"
   },
   {
    "duration": 12,
    "start_time": "2022-03-08T16:02:06.021Z"
   },
   {
    "duration": 3,
    "start_time": "2022-03-08T16:02:06.035Z"
   },
   {
    "duration": 5,
    "start_time": "2022-03-08T16:02:06.039Z"
   },
   {
    "duration": 328,
    "start_time": "2022-03-08T16:02:06.046Z"
   },
   {
    "duration": 3,
    "start_time": "2022-03-08T16:02:06.375Z"
   },
   {
    "duration": 8,
    "start_time": "2022-03-08T16:02:06.379Z"
   },
   {
    "duration": 4,
    "start_time": "2022-03-08T16:02:06.388Z"
   },
   {
    "duration": 310,
    "start_time": "2022-03-08T16:02:06.405Z"
   },
   {
    "duration": 323,
    "start_time": "2022-03-08T16:02:06.717Z"
   },
   {
    "duration": 13,
    "start_time": "2022-03-08T16:02:07.041Z"
   },
   {
    "duration": 294,
    "start_time": "2022-03-08T16:02:07.058Z"
   },
   {
    "duration": 11,
    "start_time": "2022-03-08T16:02:07.353Z"
   },
   {
    "duration": 490,
    "start_time": "2022-03-08T16:02:07.365Z"
   },
   {
    "duration": 11,
    "start_time": "2022-03-08T16:02:07.856Z"
   },
   {
    "duration": 580,
    "start_time": "2022-03-08T16:02:07.869Z"
   },
   {
    "duration": 10,
    "start_time": "2022-03-08T16:02:08.451Z"
   },
   {
    "duration": 499,
    "start_time": "2022-03-08T16:02:08.463Z"
   },
   {
    "duration": 9,
    "start_time": "2022-03-08T16:02:08.964Z"
   },
   {
    "duration": 190,
    "start_time": "2022-03-08T16:02:08.975Z"
   },
   {
    "duration": 9,
    "start_time": "2022-03-08T16:02:09.167Z"
   },
   {
    "duration": 193,
    "start_time": "2022-03-08T16:02:09.177Z"
   },
   {
    "duration": 295,
    "start_time": "2022-03-08T16:02:09.372Z"
   },
   {
    "duration": 191,
    "start_time": "2022-03-08T16:02:09.669Z"
   },
   {
    "duration": 312,
    "start_time": "2022-03-08T16:02:09.861Z"
   },
   {
    "duration": 209,
    "start_time": "2022-03-08T16:02:10.175Z"
   },
   {
    "duration": 307,
    "start_time": "2022-03-08T16:02:10.386Z"
   },
   {
    "duration": 198,
    "start_time": "2022-03-08T16:02:10.694Z"
   },
   {
    "duration": 369,
    "start_time": "2022-03-08T16:02:10.893Z"
   },
   {
    "duration": 176,
    "start_time": "2022-03-08T16:02:11.264Z"
   },
   {
    "duration": 187,
    "start_time": "2022-03-08T16:02:11.441Z"
   },
   {
    "duration": 13,
    "start_time": "2022-03-08T16:02:11.630Z"
   },
   {
    "duration": 446,
    "start_time": "2022-03-08T16:03:48.004Z"
   },
   {
    "duration": 18,
    "start_time": "2022-03-08T16:05:31.380Z"
   },
   {
    "duration": 18,
    "start_time": "2022-03-08T16:05:53.033Z"
   },
   {
    "duration": 270,
    "start_time": "2022-03-08T16:08:37.348Z"
   },
   {
    "duration": 16,
    "start_time": "2022-03-08T16:08:58.887Z"
   },
   {
    "duration": 12,
    "start_time": "2022-03-08T16:10:11.222Z"
   },
   {
    "duration": 1448,
    "start_time": "2022-03-09T09:05:17.511Z"
   },
   {
    "duration": 46,
    "start_time": "2022-03-09T09:05:18.961Z"
   },
   {
    "duration": 13,
    "start_time": "2022-03-09T09:05:19.010Z"
   },
   {
    "duration": 24,
    "start_time": "2022-03-09T09:05:19.026Z"
   },
   {
    "duration": 8,
    "start_time": "2022-03-09T09:05:19.052Z"
   },
   {
    "duration": 43,
    "start_time": "2022-03-09T09:05:19.062Z"
   },
   {
    "duration": 15,
    "start_time": "2022-03-09T09:05:19.107Z"
   },
   {
    "duration": 15,
    "start_time": "2022-03-09T09:05:19.125Z"
   },
   {
    "duration": 22,
    "start_time": "2022-03-09T09:05:19.142Z"
   },
   {
    "duration": 35,
    "start_time": "2022-03-09T09:05:19.166Z"
   },
   {
    "duration": 7,
    "start_time": "2022-03-09T09:05:19.203Z"
   },
   {
    "duration": 22,
    "start_time": "2022-03-09T09:05:19.212Z"
   },
   {
    "duration": 9,
    "start_time": "2022-03-09T09:05:19.236Z"
   },
   {
    "duration": 44,
    "start_time": "2022-03-09T09:05:19.247Z"
   },
   {
    "duration": 8,
    "start_time": "2022-03-09T09:05:19.293Z"
   },
   {
    "duration": 27,
    "start_time": "2022-03-09T09:05:19.303Z"
   },
   {
    "duration": 20,
    "start_time": "2022-03-09T09:05:19.332Z"
   },
   {
    "duration": 33,
    "start_time": "2022-03-09T09:05:19.354Z"
   },
   {
    "duration": 4,
    "start_time": "2022-03-09T09:05:19.389Z"
   },
   {
    "duration": 533,
    "start_time": "2022-03-09T09:05:19.396Z"
   },
   {
    "duration": 6,
    "start_time": "2022-03-09T09:05:19.931Z"
   },
   {
    "duration": 7,
    "start_time": "2022-03-09T09:05:19.940Z"
   },
   {
    "duration": 513,
    "start_time": "2022-03-09T09:05:19.953Z"
   },
   {
    "duration": 545,
    "start_time": "2022-03-09T09:05:20.468Z"
   },
   {
    "duration": 21,
    "start_time": "2022-03-09T09:05:21.015Z"
   },
   {
    "duration": 515,
    "start_time": "2022-03-09T09:05:21.038Z"
   },
   {
    "duration": 18,
    "start_time": "2022-03-09T09:05:21.555Z"
   },
   {
    "duration": 1161,
    "start_time": "2022-03-09T09:05:21.586Z"
   },
   {
    "duration": 46,
    "start_time": "2022-03-09T09:05:22.749Z"
   },
   {
    "duration": 831,
    "start_time": "2022-03-09T09:05:22.797Z"
   },
   {
    "duration": 19,
    "start_time": "2022-03-09T09:05:23.630Z"
   },
   {
    "duration": 882,
    "start_time": "2022-03-09T09:05:23.651Z"
   },
   {
    "duration": 12,
    "start_time": "2022-03-09T09:05:24.535Z"
   },
   {
    "duration": 330,
    "start_time": "2022-03-09T09:05:24.550Z"
   },
   {
    "duration": 13,
    "start_time": "2022-03-09T09:05:24.886Z"
   },
   {
    "duration": 342,
    "start_time": "2022-03-09T09:05:24.901Z"
   },
   {
    "duration": 538,
    "start_time": "2022-03-09T09:05:25.245Z"
   },
   {
    "duration": 333,
    "start_time": "2022-03-09T09:05:25.786Z"
   },
   {
    "duration": 531,
    "start_time": "2022-03-09T09:05:26.122Z"
   },
   {
    "duration": 349,
    "start_time": "2022-03-09T09:05:26.656Z"
   },
   {
    "duration": 608,
    "start_time": "2022-03-09T09:05:27.007Z"
   },
   {
    "duration": 344,
    "start_time": "2022-03-09T09:05:27.617Z"
   },
   {
    "duration": 538,
    "start_time": "2022-03-09T09:05:27.963Z"
   },
   {
    "duration": 343,
    "start_time": "2022-03-09T09:05:28.504Z"
   },
   {
    "duration": 367,
    "start_time": "2022-03-09T09:05:28.850Z"
   },
   {
    "duration": 22,
    "start_time": "2022-03-09T09:05:29.219Z"
   },
   {
    "duration": 14,
    "start_time": "2022-03-09T09:05:29.243Z"
   },
   {
    "duration": 1053,
    "start_time": "2022-03-11T07:31:50.731Z"
   },
   {
    "duration": 31,
    "start_time": "2022-03-11T07:31:51.786Z"
   },
   {
    "duration": 13,
    "start_time": "2022-03-11T07:31:51.819Z"
   },
   {
    "duration": 14,
    "start_time": "2022-03-11T07:31:51.835Z"
   },
   {
    "duration": 3,
    "start_time": "2022-03-11T07:31:51.851Z"
   },
   {
    "duration": 16,
    "start_time": "2022-03-11T07:31:51.855Z"
   },
   {
    "duration": 6,
    "start_time": "2022-03-11T07:31:51.872Z"
   },
   {
    "duration": 7,
    "start_time": "2022-03-11T07:31:51.880Z"
   },
   {
    "duration": 4,
    "start_time": "2022-03-11T07:31:51.889Z"
   },
   {
    "duration": 48,
    "start_time": "2022-03-11T07:31:51.895Z"
   },
   {
    "duration": 4,
    "start_time": "2022-03-11T07:31:51.945Z"
   },
   {
    "duration": 16,
    "start_time": "2022-03-11T07:31:51.950Z"
   },
   {
    "duration": 3,
    "start_time": "2022-03-11T07:31:51.968Z"
   },
   {
    "duration": 9,
    "start_time": "2022-03-11T07:31:51.973Z"
   },
   {
    "duration": 6,
    "start_time": "2022-03-11T07:31:51.984Z"
   },
   {
    "duration": 12,
    "start_time": "2022-03-11T07:31:51.992Z"
   },
   {
    "duration": 32,
    "start_time": "2022-03-11T07:31:52.006Z"
   },
   {
    "duration": 12,
    "start_time": "2022-03-11T07:31:52.039Z"
   },
   {
    "duration": 2,
    "start_time": "2022-03-11T07:31:52.053Z"
   },
   {
    "duration": 321,
    "start_time": "2022-03-11T07:31:52.056Z"
   },
   {
    "duration": 4,
    "start_time": "2022-03-11T07:31:52.379Z"
   },
   {
    "duration": 6,
    "start_time": "2022-03-11T07:31:52.384Z"
   },
   {
    "duration": 298,
    "start_time": "2022-03-11T07:31:52.393Z"
   },
   {
    "duration": 306,
    "start_time": "2022-03-11T07:31:52.693Z"
   },
   {
    "duration": 12,
    "start_time": "2022-03-11T07:31:53.000Z"
   },
   {
    "duration": 283,
    "start_time": "2022-03-11T07:31:53.013Z"
   },
   {
    "duration": 10,
    "start_time": "2022-03-11T07:31:53.298Z"
   },
   {
    "duration": 630,
    "start_time": "2022-03-11T07:31:53.309Z"
   },
   {
    "duration": 10,
    "start_time": "2022-03-11T07:31:53.941Z"
   },
   {
    "duration": 524,
    "start_time": "2022-03-11T07:31:53.953Z"
   },
   {
    "duration": 10,
    "start_time": "2022-03-11T07:31:54.478Z"
   },
   {
    "duration": 505,
    "start_time": "2022-03-11T07:31:54.489Z"
   },
   {
    "duration": 10,
    "start_time": "2022-03-11T07:31:54.996Z"
   },
   {
    "duration": 187,
    "start_time": "2022-03-11T07:31:55.008Z"
   },
   {
    "duration": 9,
    "start_time": "2022-03-11T07:31:55.197Z"
   },
   {
    "duration": 206,
    "start_time": "2022-03-11T07:31:55.208Z"
   },
   {
    "duration": 300,
    "start_time": "2022-03-11T07:31:55.416Z"
   },
   {
    "duration": 189,
    "start_time": "2022-03-11T07:31:55.717Z"
   },
   {
    "duration": 306,
    "start_time": "2022-03-11T07:31:55.908Z"
   },
   {
    "duration": 209,
    "start_time": "2022-03-11T07:31:56.216Z"
   },
   {
    "duration": 383,
    "start_time": "2022-03-11T07:31:56.426Z"
   },
   {
    "duration": 206,
    "start_time": "2022-03-11T07:31:56.811Z"
   },
   {
    "duration": 304,
    "start_time": "2022-03-11T07:31:57.018Z"
   },
   {
    "duration": 225,
    "start_time": "2022-03-11T07:31:57.324Z"
   },
   {
    "duration": 208,
    "start_time": "2022-03-11T07:31:57.551Z"
   },
   {
    "duration": 15,
    "start_time": "2022-03-11T07:31:57.761Z"
   },
   {
    "duration": 10,
    "start_time": "2022-03-11T07:31:57.778Z"
   },
   {
    "duration": 13,
    "start_time": "2022-03-11T07:40:06.895Z"
   },
   {
    "duration": 48,
    "start_time": "2022-03-11T07:43:09.687Z"
   },
   {
    "duration": 9,
    "start_time": "2022-03-11T07:46:31.961Z"
   },
   {
    "duration": 3,
    "start_time": "2022-03-11T07:53:40.139Z"
   },
   {
    "duration": 38,
    "start_time": "2022-03-11T07:53:40.144Z"
   },
   {
    "duration": 9,
    "start_time": "2022-03-11T07:53:40.184Z"
   },
   {
    "duration": 12,
    "start_time": "2022-03-11T07:53:40.196Z"
   },
   {
    "duration": 24,
    "start_time": "2022-03-11T07:53:40.210Z"
   },
   {
    "duration": 20,
    "start_time": "2022-03-11T07:53:40.236Z"
   },
   {
    "duration": 6,
    "start_time": "2022-03-11T07:53:40.258Z"
   },
   {
    "duration": 4,
    "start_time": "2022-03-11T07:53:40.267Z"
   },
   {
    "duration": 5,
    "start_time": "2022-03-11T07:53:40.273Z"
   },
   {
    "duration": 16,
    "start_time": "2022-03-11T07:53:40.280Z"
   },
   {
    "duration": 4,
    "start_time": "2022-03-11T07:53:40.298Z"
   },
   {
    "duration": 14,
    "start_time": "2022-03-11T07:53:40.334Z"
   },
   {
    "duration": 3,
    "start_time": "2022-03-11T07:53:40.350Z"
   },
   {
    "duration": 7,
    "start_time": "2022-03-11T07:53:40.355Z"
   },
   {
    "duration": 4,
    "start_time": "2022-03-11T07:53:40.364Z"
   },
   {
    "duration": 14,
    "start_time": "2022-03-11T07:53:40.369Z"
   },
   {
    "duration": 6,
    "start_time": "2022-03-11T07:53:40.385Z"
   },
   {
    "duration": 44,
    "start_time": "2022-03-11T07:53:40.393Z"
   },
   {
    "duration": 3,
    "start_time": "2022-03-11T07:53:40.438Z"
   },
   {
    "duration": 307,
    "start_time": "2022-03-11T07:53:40.443Z"
   },
   {
    "duration": 4,
    "start_time": "2022-03-11T07:53:40.752Z"
   },
   {
    "duration": 7,
    "start_time": "2022-03-11T07:53:40.758Z"
   },
   {
    "duration": 292,
    "start_time": "2022-03-11T07:53:40.768Z"
   },
   {
    "duration": 313,
    "start_time": "2022-03-11T07:53:41.062Z"
   },
   {
    "duration": 12,
    "start_time": "2022-03-11T07:53:41.376Z"
   },
   {
    "duration": 284,
    "start_time": "2022-03-11T07:53:41.390Z"
   },
   {
    "duration": 12,
    "start_time": "2022-03-11T07:53:41.676Z"
   },
   {
    "duration": 483,
    "start_time": "2022-03-11T07:53:41.690Z"
   },
   {
    "duration": 11,
    "start_time": "2022-03-11T07:53:42.175Z"
   },
   {
    "duration": 577,
    "start_time": "2022-03-11T07:53:42.188Z"
   },
   {
    "duration": 10,
    "start_time": "2022-03-11T07:53:42.766Z"
   },
   {
    "duration": 480,
    "start_time": "2022-03-11T07:53:42.778Z"
   },
   {
    "duration": 10,
    "start_time": "2022-03-11T07:53:43.259Z"
   },
   {
    "duration": 374,
    "start_time": "2022-03-11T07:53:43.270Z"
   },
   {
    "duration": 8,
    "start_time": "2022-03-11T07:53:43.646Z"
   },
   {
    "duration": 240,
    "start_time": "2022-03-11T07:53:43.655Z"
   },
   {
    "duration": 297,
    "start_time": "2022-03-11T07:53:43.897Z"
   },
   {
    "duration": 207,
    "start_time": "2022-03-11T07:53:44.196Z"
   },
   {
    "duration": 299,
    "start_time": "2022-03-11T07:53:44.405Z"
   },
   {
    "duration": 201,
    "start_time": "2022-03-11T07:53:44.705Z"
   },
   {
    "duration": 301,
    "start_time": "2022-03-11T07:53:44.907Z"
   },
   {
    "duration": 191,
    "start_time": "2022-03-11T07:53:45.210Z"
   },
   {
    "duration": 387,
    "start_time": "2022-03-11T07:53:45.402Z"
   },
   {
    "duration": 193,
    "start_time": "2022-03-11T07:53:45.791Z"
   },
   {
    "duration": 206,
    "start_time": "2022-03-11T07:53:45.985Z"
   },
   {
    "duration": 14,
    "start_time": "2022-03-11T07:53:46.192Z"
   },
   {
    "duration": 9,
    "start_time": "2022-03-11T07:53:46.208Z"
   },
   {
    "duration": 3,
    "start_time": "2022-03-11T07:54:52.412Z"
   },
   {
    "duration": 36,
    "start_time": "2022-03-11T07:54:52.416Z"
   },
   {
    "duration": 10,
    "start_time": "2022-03-11T07:54:52.454Z"
   },
   {
    "duration": 12,
    "start_time": "2022-03-11T07:54:52.466Z"
   },
   {
    "duration": 4,
    "start_time": "2022-03-11T07:54:52.479Z"
   },
   {
    "duration": 50,
    "start_time": "2022-03-11T07:54:52.485Z"
   },
   {
    "duration": 7,
    "start_time": "2022-03-11T07:54:52.536Z"
   },
   {
    "duration": 5,
    "start_time": "2022-03-11T07:54:52.544Z"
   },
   {
    "duration": 7,
    "start_time": "2022-03-11T07:54:52.552Z"
   },
   {
    "duration": 16,
    "start_time": "2022-03-11T07:54:52.560Z"
   },
   {
    "duration": 5,
    "start_time": "2022-03-11T07:54:52.577Z"
   },
   {
    "duration": 16,
    "start_time": "2022-03-11T07:54:52.584Z"
   },
   {
    "duration": 4,
    "start_time": "2022-03-11T07:54:52.633Z"
   },
   {
    "duration": 9,
    "start_time": "2022-03-11T07:54:52.639Z"
   },
   {
    "duration": 5,
    "start_time": "2022-03-11T07:54:52.650Z"
   },
   {
    "duration": 15,
    "start_time": "2022-03-11T07:54:52.657Z"
   },
   {
    "duration": 8,
    "start_time": "2022-03-11T07:54:52.674Z"
   },
   {
    "duration": 12,
    "start_time": "2022-03-11T07:54:52.684Z"
   },
   {
    "duration": 38,
    "start_time": "2022-03-11T07:54:52.698Z"
   },
   {
    "duration": 306,
    "start_time": "2022-03-11T07:54:52.737Z"
   },
   {
    "duration": 4,
    "start_time": "2022-03-11T07:54:53.045Z"
   },
   {
    "duration": 5,
    "start_time": "2022-03-11T07:54:53.051Z"
   },
   {
    "duration": 297,
    "start_time": "2022-03-11T07:54:53.057Z"
   },
   {
    "duration": 309,
    "start_time": "2022-03-11T07:54:53.356Z"
   },
   {
    "duration": 12,
    "start_time": "2022-03-11T07:54:53.666Z"
   },
   {
    "duration": 285,
    "start_time": "2022-03-11T07:54:53.679Z"
   },
   {
    "duration": 11,
    "start_time": "2022-03-11T07:54:53.967Z"
   },
   {
    "duration": 488,
    "start_time": "2022-03-11T07:54:53.979Z"
   },
   {
    "duration": 10,
    "start_time": "2022-03-11T07:54:54.469Z"
   },
   {
    "duration": 480,
    "start_time": "2022-03-11T07:54:54.480Z"
   },
   {
    "duration": 11,
    "start_time": "2022-03-11T07:54:54.962Z"
   },
   {
    "duration": 577,
    "start_time": "2022-03-11T07:54:54.975Z"
   },
   {
    "duration": 9,
    "start_time": "2022-03-11T07:54:55.554Z"
   },
   {
    "duration": 312,
    "start_time": "2022-03-11T07:54:55.564Z"
   },
   {
    "duration": 62,
    "start_time": "2022-03-11T07:54:55.877Z"
   },
   {
    "duration": 248,
    "start_time": "2022-03-11T07:54:55.941Z"
   },
   {
    "duration": 293,
    "start_time": "2022-03-11T07:54:56.191Z"
   },
   {
    "duration": 199,
    "start_time": "2022-03-11T07:54:56.486Z"
   },
   {
    "duration": 304,
    "start_time": "2022-03-11T07:54:56.687Z"
   },
   {
    "duration": 203,
    "start_time": "2022-03-11T07:54:56.993Z"
   },
   {
    "duration": 291,
    "start_time": "2022-03-11T07:54:57.197Z"
   },
   {
    "duration": 193,
    "start_time": "2022-03-11T07:54:57.489Z"
   },
   {
    "duration": 299,
    "start_time": "2022-03-11T07:54:57.684Z"
   },
   {
    "duration": 279,
    "start_time": "2022-03-11T07:54:57.985Z"
   },
   {
    "duration": 201,
    "start_time": "2022-03-11T07:54:58.265Z"
   },
   {
    "duration": 14,
    "start_time": "2022-03-11T07:54:58.468Z"
   },
   {
    "duration": 11,
    "start_time": "2022-03-11T07:54:58.483Z"
   },
   {
    "duration": 323,
    "start_time": "2022-03-11T07:59:44.998Z"
   },
   {
    "duration": 282,
    "start_time": "2022-03-11T08:00:13.942Z"
   },
   {
    "duration": 316,
    "start_time": "2022-03-11T08:00:34.902Z"
   },
   {
    "duration": 407,
    "start_time": "2022-03-11T08:01:16.118Z"
   },
   {
    "duration": 277,
    "start_time": "2022-03-11T08:01:22.350Z"
   },
   {
    "duration": 510,
    "start_time": "2022-03-11T08:02:28.248Z"
   },
   {
    "duration": 498,
    "start_time": "2022-03-11T08:03:12.155Z"
   },
   {
    "duration": 554,
    "start_time": "2022-03-11T08:04:01.943Z"
   },
   {
    "duration": 193,
    "start_time": "2022-03-11T08:04:33.471Z"
   },
   {
    "duration": 207,
    "start_time": "2022-03-11T08:04:59.702Z"
   },
   {
    "duration": 3,
    "start_time": "2022-03-11T08:08:43.413Z"
   },
   {
    "duration": 37,
    "start_time": "2022-03-11T08:08:43.417Z"
   },
   {
    "duration": 9,
    "start_time": "2022-03-11T08:08:43.456Z"
   },
   {
    "duration": 12,
    "start_time": "2022-03-11T08:08:43.467Z"
   },
   {
    "duration": 4,
    "start_time": "2022-03-11T08:08:43.481Z"
   },
   {
    "duration": 49,
    "start_time": "2022-03-11T08:08:43.486Z"
   },
   {
    "duration": 4,
    "start_time": "2022-03-11T08:08:43.537Z"
   },
   {
    "duration": 4,
    "start_time": "2022-03-11T08:08:43.543Z"
   },
   {
    "duration": 5,
    "start_time": "2022-03-11T08:08:43.549Z"
   },
   {
    "duration": 15,
    "start_time": "2022-03-11T08:08:43.556Z"
   },
   {
    "duration": 5,
    "start_time": "2022-03-11T08:08:43.572Z"
   },
   {
    "duration": 13,
    "start_time": "2022-03-11T08:08:43.578Z"
   },
   {
    "duration": 4,
    "start_time": "2022-03-11T08:08:43.593Z"
   },
   {
    "duration": 7,
    "start_time": "2022-03-11T08:08:43.633Z"
   },
   {
    "duration": 3,
    "start_time": "2022-03-11T08:08:43.642Z"
   },
   {
    "duration": 14,
    "start_time": "2022-03-11T08:08:43.647Z"
   },
   {
    "duration": 7,
    "start_time": "2022-03-11T08:08:43.662Z"
   },
   {
    "duration": 10,
    "start_time": "2022-03-11T08:08:43.671Z"
   },
   {
    "duration": 2,
    "start_time": "2022-03-11T08:08:43.683Z"
   },
   {
    "duration": 330,
    "start_time": "2022-03-11T08:08:43.687Z"
   },
   {
    "duration": 14,
    "start_time": "2022-03-11T08:08:44.018Z"
   },
   {
    "duration": 3,
    "start_time": "2022-03-11T08:08:44.034Z"
   },
   {
    "duration": 295,
    "start_time": "2022-03-11T08:08:44.039Z"
   },
   {
    "duration": 320,
    "start_time": "2022-03-11T08:08:44.336Z"
   },
   {
    "duration": 12,
    "start_time": "2022-03-11T08:08:44.658Z"
   },
   {
    "duration": 292,
    "start_time": "2022-03-11T08:08:44.672Z"
   },
   {
    "duration": 11,
    "start_time": "2022-03-11T08:08:44.968Z"
   },
   {
    "duration": 512,
    "start_time": "2022-03-11T08:08:44.981Z"
   },
   {
    "duration": 11,
    "start_time": "2022-03-11T08:08:45.494Z"
   },
   {
    "duration": 552,
    "start_time": "2022-03-11T08:08:45.507Z"
   },
   {
    "duration": 11,
    "start_time": "2022-03-11T08:08:46.061Z"
   },
   {
    "duration": 601,
    "start_time": "2022-03-11T08:08:46.073Z"
   },
   {
    "duration": 9,
    "start_time": "2022-03-11T08:08:46.676Z"
   },
   {
    "duration": 207,
    "start_time": "2022-03-11T08:08:46.687Z"
   },
   {
    "duration": 9,
    "start_time": "2022-03-11T08:08:46.895Z"
   },
   {
    "duration": 224,
    "start_time": "2022-03-11T08:08:46.905Z"
   },
   {
    "duration": 302,
    "start_time": "2022-03-11T08:08:47.133Z"
   },
   {
    "duration": 225,
    "start_time": "2022-03-11T08:08:47.437Z"
   },
   {
    "duration": 359,
    "start_time": "2022-03-11T08:08:47.664Z"
   },
   {
    "duration": 215,
    "start_time": "2022-03-11T08:08:48.025Z"
   },
   {
    "duration": 308,
    "start_time": "2022-03-11T08:08:48.241Z"
   },
   {
    "duration": 209,
    "start_time": "2022-03-11T08:08:48.551Z"
   },
   {
    "duration": 307,
    "start_time": "2022-03-11T08:08:48.761Z"
   },
   {
    "duration": 307,
    "start_time": "2022-03-11T08:08:49.070Z"
   },
   {
    "duration": 222,
    "start_time": "2022-03-11T08:08:49.379Z"
   },
   {
    "duration": 15,
    "start_time": "2022-03-11T08:08:49.603Z"
   },
   {
    "duration": 23,
    "start_time": "2022-03-11T08:08:49.619Z"
   },
   {
    "duration": 1629,
    "start_time": "2022-03-12T15:55:01.299Z"
   },
   {
    "duration": 57,
    "start_time": "2022-03-12T15:55:02.933Z"
   },
   {
    "duration": 14,
    "start_time": "2022-03-12T15:55:02.993Z"
   },
   {
    "duration": 24,
    "start_time": "2022-03-12T15:55:03.010Z"
   },
   {
    "duration": 5,
    "start_time": "2022-03-12T15:55:03.036Z"
   },
   {
    "duration": 23,
    "start_time": "2022-03-12T15:55:03.043Z"
   },
   {
    "duration": 7,
    "start_time": "2022-03-12T15:55:03.068Z"
   },
   {
    "duration": 8,
    "start_time": "2022-03-12T15:55:03.077Z"
   },
   {
    "duration": 47,
    "start_time": "2022-03-12T15:55:03.091Z"
   },
   {
    "duration": 21,
    "start_time": "2022-03-12T15:55:03.143Z"
   },
   {
    "duration": 7,
    "start_time": "2022-03-12T15:55:03.167Z"
   },
   {
    "duration": 58,
    "start_time": "2022-03-12T15:55:03.177Z"
   },
   {
    "duration": 6,
    "start_time": "2022-03-12T15:55:03.238Z"
   },
   {
    "duration": 16,
    "start_time": "2022-03-12T15:55:03.246Z"
   },
   {
    "duration": 9,
    "start_time": "2022-03-12T15:55:03.264Z"
   },
   {
    "duration": 19,
    "start_time": "2022-03-12T15:55:03.275Z"
   },
   {
    "duration": 45,
    "start_time": "2022-03-12T15:55:03.296Z"
   },
   {
    "duration": 20,
    "start_time": "2022-03-12T15:55:03.344Z"
   },
   {
    "duration": 5,
    "start_time": "2022-03-12T15:55:03.366Z"
   },
   {
    "duration": 546,
    "start_time": "2022-03-12T15:55:03.373Z"
   },
   {
    "duration": 12,
    "start_time": "2022-03-12T15:55:03.921Z"
   },
   {
    "duration": 3,
    "start_time": "2022-03-12T15:55:03.936Z"
   },
   {
    "duration": 500,
    "start_time": "2022-03-12T15:55:03.941Z"
   },
   {
    "duration": 548,
    "start_time": "2022-03-12T15:55:04.443Z"
   },
   {
    "duration": 21,
    "start_time": "2022-03-12T15:55:04.994Z"
   },
   {
    "duration": 515,
    "start_time": "2022-03-12T15:55:05.032Z"
   },
   {
    "duration": 17,
    "start_time": "2022-03-12T15:55:05.552Z"
   },
   {
    "duration": 830,
    "start_time": "2022-03-12T15:55:05.573Z"
   },
   {
    "duration": 28,
    "start_time": "2022-03-12T15:55:06.405Z"
   },
   {
    "duration": 871,
    "start_time": "2022-03-12T15:55:06.436Z"
   },
   {
    "duration": 28,
    "start_time": "2022-03-12T15:55:07.309Z"
   },
   {
    "duration": 796,
    "start_time": "2022-03-12T15:55:07.340Z"
   },
   {
    "duration": 38,
    "start_time": "2022-03-12T15:55:08.139Z"
   },
   {
    "duration": 335,
    "start_time": "2022-03-12T15:55:08.180Z"
   },
   {
    "duration": 21,
    "start_time": "2022-03-12T15:55:08.518Z"
   },
   {
    "duration": 360,
    "start_time": "2022-03-12T15:55:08.542Z"
   },
   {
    "duration": 518,
    "start_time": "2022-03-12T15:55:08.905Z"
   },
   {
    "duration": 363,
    "start_time": "2022-03-12T15:55:09.431Z"
   },
   {
    "duration": 537,
    "start_time": "2022-03-12T15:55:09.796Z"
   },
   {
    "duration": 382,
    "start_time": "2022-03-12T15:55:10.336Z"
   },
   {
    "duration": 528,
    "start_time": "2022-03-12T15:55:10.721Z"
   },
   {
    "duration": 375,
    "start_time": "2022-03-12T15:55:11.251Z"
   },
   {
    "duration": 613,
    "start_time": "2022-03-12T15:55:11.633Z"
   },
   {
    "duration": 384,
    "start_time": "2022-03-12T15:55:12.248Z"
   },
   {
    "duration": 355,
    "start_time": "2022-03-12T15:55:12.634Z"
   },
   {
    "duration": 24,
    "start_time": "2022-03-12T15:55:12.991Z"
   },
   {
    "duration": 26,
    "start_time": "2022-03-12T15:55:13.018Z"
   },
   {
    "duration": 49,
    "start_time": "2022-03-22T16:21:57.267Z"
   },
   {
    "duration": 1427,
    "start_time": "2022-03-22T16:22:01.068Z"
   },
   {
    "duration": 42,
    "start_time": "2022-03-22T16:22:02.497Z"
   },
   {
    "duration": 16,
    "start_time": "2022-03-22T16:22:02.541Z"
   },
   {
    "duration": 16,
    "start_time": "2022-03-22T16:22:02.559Z"
   },
   {
    "duration": 5,
    "start_time": "2022-03-22T16:22:02.578Z"
   },
   {
    "duration": 19,
    "start_time": "2022-03-22T16:22:02.585Z"
   },
   {
    "duration": 7,
    "start_time": "2022-03-22T16:22:02.605Z"
   },
   {
    "duration": 27,
    "start_time": "2022-03-22T16:22:02.614Z"
   },
   {
    "duration": 9,
    "start_time": "2022-03-22T16:22:02.643Z"
   },
   {
    "duration": 20,
    "start_time": "2022-03-22T16:22:02.653Z"
   },
   {
    "duration": 5,
    "start_time": "2022-03-22T16:22:02.675Z"
   },
   {
    "duration": 22,
    "start_time": "2022-03-22T16:22:02.681Z"
   },
   {
    "duration": 4,
    "start_time": "2022-03-22T16:22:02.705Z"
   },
   {
    "duration": 7,
    "start_time": "2022-03-22T16:22:02.737Z"
   },
   {
    "duration": 12,
    "start_time": "2022-03-22T16:22:02.746Z"
   },
   {
    "duration": 17,
    "start_time": "2022-03-22T16:22:02.759Z"
   },
   {
    "duration": 11,
    "start_time": "2022-03-22T16:22:02.778Z"
   },
   {
    "duration": 14,
    "start_time": "2022-03-22T16:22:02.791Z"
   },
   {
    "duration": 3,
    "start_time": "2022-03-22T16:22:02.807Z"
   },
   {
    "duration": 319,
    "start_time": "2022-03-22T16:22:02.811Z"
   },
   {
    "duration": 5,
    "start_time": "2022-03-22T16:22:03.132Z"
   },
   {
    "duration": 7,
    "start_time": "2022-03-22T16:22:03.138Z"
   },
   {
    "duration": 253,
    "start_time": "2022-03-22T16:22:03.147Z"
   },
   {
    "duration": 309,
    "start_time": "2022-03-22T16:22:03.402Z"
   },
   {
    "duration": 24,
    "start_time": "2022-03-22T16:22:03.713Z"
   },
   {
    "duration": 284,
    "start_time": "2022-03-22T16:22:03.739Z"
   },
   {
    "duration": 19,
    "start_time": "2022-03-22T16:22:04.025Z"
   },
   {
    "duration": 305,
    "start_time": "2022-03-22T16:22:04.046Z"
   },
   {
    "duration": 12,
    "start_time": "2022-03-22T16:22:04.352Z"
   },
   {
    "duration": 285,
    "start_time": "2022-03-22T16:22:04.366Z"
   },
   {
    "duration": 11,
    "start_time": "2022-03-22T16:22:04.653Z"
   },
   {
    "duration": 286,
    "start_time": "2022-03-22T16:22:04.665Z"
   },
   {
    "duration": 9,
    "start_time": "2022-03-22T16:22:04.953Z"
   },
   {
    "duration": 283,
    "start_time": "2022-03-22T16:22:04.963Z"
   },
   {
    "duration": 9,
    "start_time": "2022-03-22T16:22:05.247Z"
   },
   {
    "duration": 200,
    "start_time": "2022-03-22T16:22:05.258Z"
   },
   {
    "duration": 295,
    "start_time": "2022-03-22T16:22:05.460Z"
   },
   {
    "duration": 196,
    "start_time": "2022-03-22T16:22:05.757Z"
   },
   {
    "duration": 289,
    "start_time": "2022-03-22T16:22:05.954Z"
   },
   {
    "duration": 195,
    "start_time": "2022-03-22T16:22:06.245Z"
   },
   {
    "duration": 269,
    "start_time": "2022-03-22T16:22:06.444Z"
   },
   {
    "duration": 195,
    "start_time": "2022-03-22T16:22:06.715Z"
   },
   {
    "duration": 290,
    "start_time": "2022-03-22T16:22:06.913Z"
   },
   {
    "duration": 194,
    "start_time": "2022-03-22T16:22:07.205Z"
   },
   {
    "duration": 198,
    "start_time": "2022-03-22T16:22:07.401Z"
   },
   {
    "duration": 127,
    "start_time": "2022-03-22T16:22:07.600Z"
   },
   {
    "duration": 16,
    "start_time": "2022-03-22T16:22:07.729Z"
   },
   {
    "duration": 248,
    "start_time": "2022-03-22T16:22:25.089Z"
   },
   {
    "duration": 285,
    "start_time": "2022-03-22T16:22:32.727Z"
   },
   {
    "duration": 269,
    "start_time": "2022-03-22T16:22:48.755Z"
   },
   {
    "duration": 490,
    "start_time": "2022-03-22T16:28:15.607Z"
   },
   {
    "duration": 571,
    "start_time": "2022-03-22T16:28:29.368Z"
   },
   {
    "duration": 427,
    "start_time": "2022-03-22T16:28:52.798Z"
   },
   {
    "duration": 480,
    "start_time": "2022-03-22T16:29:01.707Z"
   },
   {
    "duration": 569,
    "start_time": "2022-03-22T16:29:20.130Z"
   },
   {
    "duration": 424,
    "start_time": "2022-03-22T16:30:58.464Z"
   },
   {
    "duration": 627,
    "start_time": "2022-03-22T16:31:11.178Z"
   },
   {
    "duration": 434,
    "start_time": "2022-03-22T16:31:30.618Z"
   },
   {
    "duration": 447,
    "start_time": "2022-03-22T16:31:42.061Z"
   },
   {
    "duration": 3,
    "start_time": "2022-03-22T16:33:48.759Z"
   },
   {
    "duration": 43,
    "start_time": "2022-03-22T16:33:48.764Z"
   },
   {
    "duration": 13,
    "start_time": "2022-03-22T16:33:48.809Z"
   },
   {
    "duration": 13,
    "start_time": "2022-03-22T16:33:48.825Z"
   },
   {
    "duration": 5,
    "start_time": "2022-03-22T16:33:48.840Z"
   },
   {
    "duration": 21,
    "start_time": "2022-03-22T16:33:48.846Z"
   },
   {
    "duration": 7,
    "start_time": "2022-03-22T16:33:48.869Z"
   },
   {
    "duration": 8,
    "start_time": "2022-03-22T16:33:48.878Z"
   },
   {
    "duration": 6,
    "start_time": "2022-03-22T16:33:48.889Z"
   },
   {
    "duration": 15,
    "start_time": "2022-03-22T16:33:48.896Z"
   },
   {
    "duration": 27,
    "start_time": "2022-03-22T16:33:48.913Z"
   },
   {
    "duration": 19,
    "start_time": "2022-03-22T16:33:48.941Z"
   },
   {
    "duration": 4,
    "start_time": "2022-03-22T16:33:48.962Z"
   },
   {
    "duration": 9,
    "start_time": "2022-03-22T16:33:48.967Z"
   },
   {
    "duration": 5,
    "start_time": "2022-03-22T16:33:48.978Z"
   },
   {
    "duration": 18,
    "start_time": "2022-03-22T16:33:48.984Z"
   },
   {
    "duration": 34,
    "start_time": "2022-03-22T16:33:49.004Z"
   },
   {
    "duration": 16,
    "start_time": "2022-03-22T16:33:49.040Z"
   },
   {
    "duration": 3,
    "start_time": "2022-03-22T16:33:49.057Z"
   },
   {
    "duration": 259,
    "start_time": "2022-03-22T16:33:49.062Z"
   },
   {
    "duration": 14,
    "start_time": "2022-03-22T16:33:49.323Z"
   },
   {
    "duration": 6,
    "start_time": "2022-03-22T16:33:49.339Z"
   },
   {
    "duration": 256,
    "start_time": "2022-03-22T16:33:49.347Z"
   },
   {
    "duration": 388,
    "start_time": "2022-03-22T16:33:49.606Z"
   },
   {
    "duration": 14,
    "start_time": "2022-03-22T16:33:49.997Z"
   },
   {
    "duration": 399,
    "start_time": "2022-03-22T16:33:50.013Z"
   },
   {
    "duration": 25,
    "start_time": "2022-03-22T16:33:50.413Z"
   },
   {
    "duration": 297,
    "start_time": "2022-03-22T16:33:50.439Z"
   },
   {
    "duration": 12,
    "start_time": "2022-03-22T16:33:50.738Z"
   },
   {
    "duration": 315,
    "start_time": "2022-03-22T16:33:50.751Z"
   },
   {
    "duration": 13,
    "start_time": "2022-03-22T16:33:51.068Z"
   },
   {
    "duration": 293,
    "start_time": "2022-03-22T16:33:51.083Z"
   },
   {
    "duration": 9,
    "start_time": "2022-03-22T16:33:51.377Z"
   },
   {
    "duration": 189,
    "start_time": "2022-03-22T16:33:51.387Z"
   },
   {
    "duration": 9,
    "start_time": "2022-03-22T16:33:51.577Z"
   },
   {
    "duration": 192,
    "start_time": "2022-03-22T16:33:51.587Z"
   },
   {
    "duration": 281,
    "start_time": "2022-03-22T16:33:51.781Z"
   },
   {
    "duration": 275,
    "start_time": "2022-03-22T16:33:52.064Z"
   },
   {
    "duration": 283,
    "start_time": "2022-03-22T16:33:52.341Z"
   },
   {
    "duration": 194,
    "start_time": "2022-03-22T16:33:52.626Z"
   },
   {
    "duration": 286,
    "start_time": "2022-03-22T16:33:52.822Z"
   },
   {
    "duration": 193,
    "start_time": "2022-03-22T16:33:53.110Z"
   },
   {
    "duration": 280,
    "start_time": "2022-03-22T16:33:53.305Z"
   },
   {
    "duration": 192,
    "start_time": "2022-03-22T16:33:53.586Z"
   },
   {
    "duration": 177,
    "start_time": "2022-03-22T16:33:53.779Z"
   },
   {
    "duration": 16,
    "start_time": "2022-03-22T16:33:53.958Z"
   },
   {
    "duration": 10,
    "start_time": "2022-03-22T16:33:53.975Z"
   },
   {
    "duration": 69,
    "start_time": "2022-03-24T11:47:24.404Z"
   },
   {
    "duration": 1773,
    "start_time": "2022-03-24T11:47:28.637Z"
   },
   {
    "duration": 51,
    "start_time": "2022-03-24T11:47:30.414Z"
   },
   {
    "duration": 28,
    "start_time": "2022-03-24T11:47:30.467Z"
   },
   {
    "duration": 37,
    "start_time": "2022-03-24T11:47:30.498Z"
   },
   {
    "duration": 4,
    "start_time": "2022-03-24T11:47:30.539Z"
   },
   {
    "duration": 38,
    "start_time": "2022-03-24T11:47:30.545Z"
   },
   {
    "duration": 23,
    "start_time": "2022-03-24T11:47:30.586Z"
   },
   {
    "duration": 18,
    "start_time": "2022-03-24T11:47:30.612Z"
   },
   {
    "duration": 24,
    "start_time": "2022-03-24T11:47:30.632Z"
   },
   {
    "duration": 51,
    "start_time": "2022-03-24T11:47:30.658Z"
   },
   {
    "duration": 7,
    "start_time": "2022-03-24T11:47:30.711Z"
   },
   {
    "duration": 55,
    "start_time": "2022-03-24T11:47:30.720Z"
   },
   {
    "duration": 6,
    "start_time": "2022-03-24T11:47:30.777Z"
   },
   {
    "duration": 27,
    "start_time": "2022-03-24T11:47:30.787Z"
   },
   {
    "duration": 25,
    "start_time": "2022-03-24T11:47:30.816Z"
   },
   {
    "duration": 54,
    "start_time": "2022-03-24T11:47:30.844Z"
   },
   {
    "duration": 525,
    "start_time": "2022-03-24T11:47:30.902Z"
   },
   {
    "duration": 18,
    "start_time": "2022-03-24T11:47:31.430Z"
   },
   {
    "duration": 28,
    "start_time": "2022-03-24T11:47:31.451Z"
   },
   {
    "duration": 489,
    "start_time": "2022-03-24T11:47:31.482Z"
   },
   {
    "duration": 7,
    "start_time": "2022-03-24T11:47:31.973Z"
   },
   {
    "duration": 30,
    "start_time": "2022-03-24T11:47:31.982Z"
   },
   {
    "duration": 399,
    "start_time": "2022-03-24T11:47:32.015Z"
   },
   {
    "duration": 462,
    "start_time": "2022-03-24T11:47:32.417Z"
   },
   {
    "duration": 21,
    "start_time": "2022-03-24T11:47:32.881Z"
   },
   {
    "duration": 637,
    "start_time": "2022-03-24T11:47:32.904Z"
   },
   {
    "duration": 18,
    "start_time": "2022-03-24T11:47:33.544Z"
   },
   {
    "duration": 929,
    "start_time": "2022-03-24T11:47:33.564Z"
   },
   {
    "duration": 17,
    "start_time": "2022-03-24T11:47:34.495Z"
   },
   {
    "duration": 895,
    "start_time": "2022-03-24T11:47:34.515Z"
   },
   {
    "duration": 70,
    "start_time": "2022-03-24T11:47:35.413Z"
   },
   {
    "duration": 840,
    "start_time": "2022-03-24T11:47:35.486Z"
   },
   {
    "duration": 64,
    "start_time": "2022-03-24T11:47:36.328Z"
   },
   {
    "duration": 311,
    "start_time": "2022-03-24T11:47:36.394Z"
   },
   {
    "duration": 13,
    "start_time": "2022-03-24T11:47:36.707Z"
   },
   {
    "duration": 299,
    "start_time": "2022-03-24T11:47:36.723Z"
   },
   {
    "duration": 434,
    "start_time": "2022-03-24T11:47:37.025Z"
   },
   {
    "duration": 301,
    "start_time": "2022-03-24T11:47:37.461Z"
   },
   {
    "duration": 428,
    "start_time": "2022-03-24T11:47:37.766Z"
   },
   {
    "duration": 297,
    "start_time": "2022-03-24T11:47:38.196Z"
   },
   {
    "duration": 440,
    "start_time": "2022-03-24T11:47:38.499Z"
   },
   {
    "duration": 297,
    "start_time": "2022-03-24T11:47:38.941Z"
   },
   {
    "duration": 560,
    "start_time": "2022-03-24T11:47:39.240Z"
   },
   {
    "duration": 308,
    "start_time": "2022-03-24T11:47:39.802Z"
   },
   {
    "duration": 275,
    "start_time": "2022-03-24T11:47:40.113Z"
   },
   {
    "duration": 23,
    "start_time": "2022-03-24T11:47:40.390Z"
   },
   {
    "duration": 13,
    "start_time": "2022-03-24T11:47:40.416Z"
   },
   {
    "duration": 759,
    "start_time": "2022-03-24T11:48:54.354Z"
   },
   {
    "duration": 282,
    "start_time": "2022-03-24T11:49:27.907Z"
   },
   {
    "duration": 277,
    "start_time": "2022-03-24T11:50:16.259Z"
   },
   {
    "duration": 773,
    "start_time": "2022-03-24T11:59:41.885Z"
   },
   {
    "duration": 848,
    "start_time": "2022-03-24T12:00:05.060Z"
   },
   {
    "duration": 818,
    "start_time": "2022-03-24T12:03:19.310Z"
   },
   {
    "duration": 769,
    "start_time": "2022-03-24T12:03:35.870Z"
   },
   {
    "duration": 167,
    "start_time": "2022-03-24T13:31:44.541Z"
   },
   {
    "duration": 1511,
    "start_time": "2023-01-31T14:35:08.747Z"
   },
   {
    "duration": 101,
    "start_time": "2023-01-31T14:35:10.260Z"
   },
   {
    "duration": 18,
    "start_time": "2023-01-31T14:35:10.363Z"
   },
   {
    "duration": 21,
    "start_time": "2023-01-31T14:35:10.382Z"
   },
   {
    "duration": 4,
    "start_time": "2023-01-31T14:35:10.406Z"
   },
   {
    "duration": 22,
    "start_time": "2023-01-31T14:35:10.412Z"
   },
   {
    "duration": 20,
    "start_time": "2023-01-31T14:35:10.436Z"
   },
   {
    "duration": 9,
    "start_time": "2023-01-31T14:35:10.458Z"
   },
   {
    "duration": 18,
    "start_time": "2023-01-31T14:35:10.469Z"
   },
   {
    "duration": 23,
    "start_time": "2023-01-31T14:35:10.489Z"
   },
   {
    "duration": 6,
    "start_time": "2023-01-31T14:35:10.514Z"
   },
   {
    "duration": 22,
    "start_time": "2023-01-31T14:35:10.522Z"
   },
   {
    "duration": 5,
    "start_time": "2023-01-31T14:35:10.546Z"
   },
   {
    "duration": 7,
    "start_time": "2023-01-31T14:35:10.584Z"
   },
   {
    "duration": 13,
    "start_time": "2023-01-31T14:35:10.593Z"
   },
   {
    "duration": 26,
    "start_time": "2023-01-31T14:35:10.608Z"
   },
   {
    "duration": 232,
    "start_time": "2023-01-31T14:35:10.636Z"
   },
   {
    "duration": 20,
    "start_time": "2023-01-31T14:35:10.870Z"
   },
   {
    "duration": 4,
    "start_time": "2023-01-31T14:35:10.892Z"
   },
   {
    "duration": 316,
    "start_time": "2023-01-31T14:35:10.898Z"
   },
   {
    "duration": 6,
    "start_time": "2023-01-31T14:35:11.215Z"
   },
   {
    "duration": 10,
    "start_time": "2023-01-31T14:35:11.222Z"
   },
   {
    "duration": 287,
    "start_time": "2023-01-31T14:35:11.233Z"
   },
   {
    "duration": 351,
    "start_time": "2023-01-31T14:35:11.522Z"
   },
   {
    "duration": 27,
    "start_time": "2023-01-31T14:35:11.875Z"
   },
   {
    "duration": 594,
    "start_time": "2023-01-31T14:35:11.904Z"
   },
   {
    "duration": 13,
    "start_time": "2023-01-31T14:35:12.500Z"
   },
   {
    "duration": 413,
    "start_time": "2023-01-31T14:35:12.515Z"
   },
   {
    "duration": 14,
    "start_time": "2023-01-31T14:35:12.930Z"
   },
   {
    "duration": 347,
    "start_time": "2023-01-31T14:35:12.946Z"
   },
   {
    "duration": 12,
    "start_time": "2023-01-31T14:35:13.295Z"
   },
   {
    "duration": 350,
    "start_time": "2023-01-31T14:35:13.309Z"
   },
   {
    "duration": 23,
    "start_time": "2023-01-31T14:35:13.662Z"
   },
   {
    "duration": 215,
    "start_time": "2023-01-31T14:35:13.687Z"
   },
   {
    "duration": 10,
    "start_time": "2023-01-31T14:35:13.904Z"
   },
   {
    "duration": 209,
    "start_time": "2023-01-31T14:35:13.916Z"
   },
   {
    "duration": 306,
    "start_time": "2023-01-31T14:35:14.129Z"
   },
   {
    "duration": 259,
    "start_time": "2023-01-31T14:35:14.437Z"
   },
   {
    "duration": 327,
    "start_time": "2023-01-31T14:35:14.698Z"
   },
   {
    "duration": 211,
    "start_time": "2023-01-31T14:35:15.027Z"
   },
   {
    "duration": 308,
    "start_time": "2023-01-31T14:35:15.242Z"
   },
   {
    "duration": 240,
    "start_time": "2023-01-31T14:35:15.553Z"
   },
   {
    "duration": 443,
    "start_time": "2023-01-31T14:35:15.795Z"
   },
   {
    "duration": 219,
    "start_time": "2023-01-31T14:35:16.240Z"
   },
   {
    "duration": 221,
    "start_time": "2023-01-31T14:35:16.462Z"
   },
   {
    "duration": 18,
    "start_time": "2023-01-31T14:35:16.684Z"
   },
   {
    "duration": 12,
    "start_time": "2023-01-31T14:35:16.704Z"
   }
  ],
  "kernelspec": {
   "display_name": "Python 3 (ipykernel)",
   "language": "python",
   "name": "python3"
  },
  "language_info": {
   "codemirror_mode": {
    "name": "ipython",
    "version": 3
   },
   "file_extension": ".py",
   "mimetype": "text/x-python",
   "name": "python",
   "nbconvert_exporter": "python",
   "pygments_lexer": "ipython3",
   "version": "3.9.5"
  },
  "toc": {
   "base_numbering": 1,
   "nav_menu": {},
   "number_sections": true,
   "sideBar": true,
   "skip_h1_title": true,
   "title_cell": "Table of Contents",
   "title_sidebar": "Contents",
   "toc_cell": false,
   "toc_position": {},
   "toc_section_display": true,
   "toc_window_display": true
  }
 },
 "nbformat": 4,
 "nbformat_minor": 2
}
